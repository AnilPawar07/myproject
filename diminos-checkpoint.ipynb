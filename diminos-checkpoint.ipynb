{
 "cells": [
  {
   "cell_type": "code",
   "execution_count": 1,
   "id": "6675dd0d",
   "metadata": {},
   "outputs": [],
   "source": [
    "import pandas as pd\n",
    "import numpy as np\n",
    "from functools import reduce\n",
    "import matplotlib.pyplot as plt\n",
    "from scipy.stats import poisson"
   ]
  },
  {
   "cell_type": "code",
   "execution_count": 2,
   "id": "0671b31b",
   "metadata": {},
   "outputs": [],
   "source": [
    "df1 = pd.read_csv(\"F:\\Innomatics\\diminos_data_v2\\diminos_data_v2\\deliveries.csv\")"
   ]
  },
  {
   "cell_type": "code",
   "execution_count": 3,
   "id": "90ced628",
   "metadata": {},
   "outputs": [
    {
     "data": {
      "text/html": [
       "<div>\n",
       "<style scoped>\n",
       "    .dataframe tbody tr th:only-of-type {\n",
       "        vertical-align: middle;\n",
       "    }\n",
       "\n",
       "    .dataframe tbody tr th {\n",
       "        vertical-align: top;\n",
       "    }\n",
       "\n",
       "    .dataframe thead th {\n",
       "        text-align: right;\n",
       "    }\n",
       "</style>\n",
       "<table border=\"1\" class=\"dataframe\">\n",
       "  <thead>\n",
       "    <tr style=\"text-align: right;\">\n",
       "      <th></th>\n",
       "      <th>order_id</th>\n",
       "      <th>time_stamp</th>\n",
       "      <th>status</th>\n",
       "    </tr>\n",
       "  </thead>\n",
       "  <tbody>\n",
       "    <tr>\n",
       "      <th>0</th>\n",
       "      <td>321230114</td>\n",
       "      <td>2020-12-11 00:01:29.000000000</td>\n",
       "      <td>Pending</td>\n",
       "    </tr>\n",
       "    <tr>\n",
       "      <th>1</th>\n",
       "      <td>321230114</td>\n",
       "      <td>2020-12-11 00:06:29.000000000</td>\n",
       "      <td>Out For Delivery</td>\n",
       "    </tr>\n",
       "    <tr>\n",
       "      <th>2</th>\n",
       "      <td>321230114</td>\n",
       "      <td>2020-12-11 00:19:13.299151076</td>\n",
       "      <td>Delivered</td>\n",
       "    </tr>\n",
       "    <tr>\n",
       "      <th>3</th>\n",
       "      <td>321230115</td>\n",
       "      <td>2020-12-11 00:36:02.000000000</td>\n",
       "      <td>Pending</td>\n",
       "    </tr>\n",
       "    <tr>\n",
       "      <th>4</th>\n",
       "      <td>321230115</td>\n",
       "      <td>2020-12-11 00:41:02.000000000</td>\n",
       "      <td>Out For Delivery</td>\n",
       "    </tr>\n",
       "  </tbody>\n",
       "</table>\n",
       "</div>"
      ],
      "text/plain": [
       "    order_id                     time_stamp            status\n",
       "0  321230114  2020-12-11 00:01:29.000000000           Pending\n",
       "1  321230114  2020-12-11 00:06:29.000000000  Out For Delivery\n",
       "2  321230114  2020-12-11 00:19:13.299151076         Delivered\n",
       "3  321230115  2020-12-11 00:36:02.000000000           Pending\n",
       "4  321230115  2020-12-11 00:41:02.000000000  Out For Delivery"
      ]
     },
     "execution_count": 3,
     "metadata": {},
     "output_type": "execute_result"
    }
   ],
   "source": [
    "df1.head()"
   ]
  },
  {
   "cell_type": "code",
   "execution_count": 4,
   "id": "6e12b3b8",
   "metadata": {},
   "outputs": [
    {
     "name": "stdout",
     "output_type": "stream",
     "text": [
      "<class 'pandas.core.frame.DataFrame'>\n",
      "RangeIndex: 1363008 entries, 0 to 1363007\n",
      "Data columns (total 3 columns):\n",
      " #   Column      Non-Null Count    Dtype \n",
      "---  ------      --------------    ----- \n",
      " 0   order_id    1363008 non-null  int64 \n",
      " 1   time_stamp  1363008 non-null  object\n",
      " 2   status      1363008 non-null  object\n",
      "dtypes: int64(1), object(2)\n",
      "memory usage: 31.2+ MB\n"
     ]
    }
   ],
   "source": [
    "df1.info()"
   ]
  },
  {
   "cell_type": "code",
   "execution_count": 5,
   "id": "d8c744fd",
   "metadata": {},
   "outputs": [],
   "source": [
    "df2 = pd.read_csv(\"F:\\Innomatics\\diminos_data_v2\\diminos_data_v2\\order_items.csv\")"
   ]
  },
  {
   "cell_type": "code",
   "execution_count": 6,
   "id": "b2fe72b3",
   "metadata": {},
   "outputs": [
    {
     "data": {
      "text/html": [
       "<div>\n",
       "<style scoped>\n",
       "    .dataframe tbody tr th:only-of-type {\n",
       "        vertical-align: middle;\n",
       "    }\n",
       "\n",
       "    .dataframe tbody tr th {\n",
       "        vertical-align: top;\n",
       "    }\n",
       "\n",
       "    .dataframe thead th {\n",
       "        text-align: right;\n",
       "    }\n",
       "</style>\n",
       "<table border=\"1\" class=\"dataframe\">\n",
       "  <thead>\n",
       "    <tr style=\"text-align: right;\">\n",
       "      <th></th>\n",
       "      <th>order_id</th>\n",
       "      <th>items_ordered</th>\n",
       "    </tr>\n",
       "  </thead>\n",
       "  <tbody>\n",
       "    <tr>\n",
       "      <th>0</th>\n",
       "      <td>321230114</td>\n",
       "      <td>['p_025', 'p_032', 'p_037']</td>\n",
       "    </tr>\n",
       "    <tr>\n",
       "      <th>1</th>\n",
       "      <td>321230115</td>\n",
       "      <td>['p_017', 'p_012']</td>\n",
       "    </tr>\n",
       "    <tr>\n",
       "      <th>2</th>\n",
       "      <td>321230116</td>\n",
       "      <td>['p_027', 'p_037']</td>\n",
       "    </tr>\n",
       "    <tr>\n",
       "      <th>3</th>\n",
       "      <td>321230117</td>\n",
       "      <td>['p_004', 'p_029']</td>\n",
       "    </tr>\n",
       "    <tr>\n",
       "      <th>4</th>\n",
       "      <td>321230118</td>\n",
       "      <td>['p_017', 'p_037']</td>\n",
       "    </tr>\n",
       "  </tbody>\n",
       "</table>\n",
       "</div>"
      ],
      "text/plain": [
       "    order_id                items_ordered\n",
       "0  321230114  ['p_025', 'p_032', 'p_037']\n",
       "1  321230115           ['p_017', 'p_012']\n",
       "2  321230116           ['p_027', 'p_037']\n",
       "3  321230117           ['p_004', 'p_029']\n",
       "4  321230118           ['p_017', 'p_037']"
      ]
     },
     "execution_count": 6,
     "metadata": {},
     "output_type": "execute_result"
    }
   ],
   "source": [
    "df2.head()"
   ]
  },
  {
   "cell_type": "code",
   "execution_count": 7,
   "id": "1854a798",
   "metadata": {},
   "outputs": [],
   "source": [
    "df3 = pd.read_csv(\"F:\\Innomatics\\diminos_data_v2\\diminos_data_v2\\orders.csv\")"
   ]
  },
  {
   "cell_type": "code",
   "execution_count": 8,
   "id": "fdda76a5",
   "metadata": {},
   "outputs": [
    {
     "data": {
      "text/html": [
       "<div>\n",
       "<style scoped>\n",
       "    .dataframe tbody tr th:only-of-type {\n",
       "        vertical-align: middle;\n",
       "    }\n",
       "\n",
       "    .dataframe tbody tr th {\n",
       "        vertical-align: top;\n",
       "    }\n",
       "\n",
       "    .dataframe thead th {\n",
       "        text-align: right;\n",
       "    }\n",
       "</style>\n",
       "<table border=\"1\" class=\"dataframe\">\n",
       "  <thead>\n",
       "    <tr style=\"text-align: right;\">\n",
       "      <th></th>\n",
       "      <th>order_id</th>\n",
       "      <th>order_placed_at</th>\n",
       "    </tr>\n",
       "  </thead>\n",
       "  <tbody>\n",
       "    <tr>\n",
       "      <th>0</th>\n",
       "      <td>321230114</td>\n",
       "      <td>2020-12-11 00:01:29</td>\n",
       "    </tr>\n",
       "    <tr>\n",
       "      <th>1</th>\n",
       "      <td>321230115</td>\n",
       "      <td>2020-12-11 00:36:02</td>\n",
       "    </tr>\n",
       "    <tr>\n",
       "      <th>2</th>\n",
       "      <td>321230116</td>\n",
       "      <td>2020-12-11 00:55:01</td>\n",
       "    </tr>\n",
       "    <tr>\n",
       "      <th>3</th>\n",
       "      <td>321230117</td>\n",
       "      <td>2020-12-11 01:05:27</td>\n",
       "    </tr>\n",
       "    <tr>\n",
       "      <th>4</th>\n",
       "      <td>321230118</td>\n",
       "      <td>2020-12-11 01:14:20</td>\n",
       "    </tr>\n",
       "    <tr>\n",
       "      <th>...</th>\n",
       "      <td>...</td>\n",
       "      <td>...</td>\n",
       "    </tr>\n",
       "    <tr>\n",
       "      <th>454331</th>\n",
       "      <td>321684445</td>\n",
       "      <td>2024-01-31 23:27:51</td>\n",
       "    </tr>\n",
       "    <tr>\n",
       "      <th>454332</th>\n",
       "      <td>321684446</td>\n",
       "      <td>2024-01-31 23:40:14</td>\n",
       "    </tr>\n",
       "    <tr>\n",
       "      <th>454333</th>\n",
       "      <td>321684447</td>\n",
       "      <td>2024-01-31 23:36:08</td>\n",
       "    </tr>\n",
       "    <tr>\n",
       "      <th>454334</th>\n",
       "      <td>321684448</td>\n",
       "      <td>2024-01-31 23:58:05</td>\n",
       "    </tr>\n",
       "    <tr>\n",
       "      <th>454335</th>\n",
       "      <td>321684449</td>\n",
       "      <td>2024-01-31 23:55:46</td>\n",
       "    </tr>\n",
       "  </tbody>\n",
       "</table>\n",
       "<p>454336 rows × 2 columns</p>\n",
       "</div>"
      ],
      "text/plain": [
       "         order_id      order_placed_at\n",
       "0       321230114  2020-12-11 00:01:29\n",
       "1       321230115  2020-12-11 00:36:02\n",
       "2       321230116  2020-12-11 00:55:01\n",
       "3       321230117  2020-12-11 01:05:27\n",
       "4       321230118  2020-12-11 01:14:20\n",
       "...           ...                  ...\n",
       "454331  321684445  2024-01-31 23:27:51\n",
       "454332  321684446  2024-01-31 23:40:14\n",
       "454333  321684447  2024-01-31 23:36:08\n",
       "454334  321684448  2024-01-31 23:58:05\n",
       "454335  321684449  2024-01-31 23:55:46\n",
       "\n",
       "[454336 rows x 2 columns]"
      ]
     },
     "execution_count": 8,
     "metadata": {},
     "output_type": "execute_result"
    }
   ],
   "source": [
    "df3"
   ]
  },
  {
   "cell_type": "code",
   "execution_count": 9,
   "id": "6ef7f2c1",
   "metadata": {},
   "outputs": [],
   "source": [
    "df4 = pd.read_csv(\"F:\\Innomatics\\diminos_data_v2\\diminos_data_v2\\products.csv\")"
   ]
  },
  {
   "cell_type": "code",
   "execution_count": 10,
   "id": "e7194cdf",
   "metadata": {},
   "outputs": [
    {
     "data": {
      "text/html": [
       "<div>\n",
       "<style scoped>\n",
       "    .dataframe tbody tr th:only-of-type {\n",
       "        vertical-align: middle;\n",
       "    }\n",
       "\n",
       "    .dataframe tbody tr th {\n",
       "        vertical-align: top;\n",
       "    }\n",
       "\n",
       "    .dataframe thead th {\n",
       "        text-align: right;\n",
       "    }\n",
       "</style>\n",
       "<table border=\"1\" class=\"dataframe\">\n",
       "  <thead>\n",
       "    <tr style=\"text-align: right;\">\n",
       "      <th></th>\n",
       "      <th>item_id</th>\n",
       "      <th>category</th>\n",
       "      <th>Item</th>\n",
       "      <th>Size</th>\n",
       "      <th>Price</th>\n",
       "    </tr>\n",
       "  </thead>\n",
       "  <tbody>\n",
       "    <tr>\n",
       "      <th>0</th>\n",
       "      <td>p_001</td>\n",
       "      <td>Veg</td>\n",
       "      <td>Margherita</td>\n",
       "      <td>Regular</td>\n",
       "      <td>109</td>\n",
       "    </tr>\n",
       "    <tr>\n",
       "      <th>1</th>\n",
       "      <td>p_002</td>\n",
       "      <td>Veg</td>\n",
       "      <td>Margherita</td>\n",
       "      <td>Medium</td>\n",
       "      <td>245</td>\n",
       "    </tr>\n",
       "    <tr>\n",
       "      <th>2</th>\n",
       "      <td>p_003</td>\n",
       "      <td>Veg</td>\n",
       "      <td>Margherita</td>\n",
       "      <td>Large</td>\n",
       "      <td>455</td>\n",
       "    </tr>\n",
       "    <tr>\n",
       "      <th>3</th>\n",
       "      <td>p_004</td>\n",
       "      <td>Veg</td>\n",
       "      <td>Double Cheese Margherita</td>\n",
       "      <td>Regular</td>\n",
       "      <td>215</td>\n",
       "    </tr>\n",
       "    <tr>\n",
       "      <th>4</th>\n",
       "      <td>p_005</td>\n",
       "      <td>Veg</td>\n",
       "      <td>Double Cheese Margherita</td>\n",
       "      <td>Medium</td>\n",
       "      <td>385</td>\n",
       "    </tr>\n",
       "  </tbody>\n",
       "</table>\n",
       "</div>"
      ],
      "text/plain": [
       "  item_id category                      Item     Size  Price\n",
       "0   p_001      Veg                Margherita  Regular    109\n",
       "1   p_002      Veg                Margherita   Medium    245\n",
       "2   p_003      Veg                Margherita    Large    455\n",
       "3   p_004      Veg  Double Cheese Margherita  Regular    215\n",
       "4   p_005      Veg  Double Cheese Margherita   Medium    385"
      ]
     },
     "execution_count": 10,
     "metadata": {},
     "output_type": "execute_result"
    }
   ],
   "source": [
    "df4.head()"
   ]
  },
  {
   "cell_type": "code",
   "execution_count": 11,
   "id": "8a6fa6a2",
   "metadata": {},
   "outputs": [],
   "source": [
    "df5 = [df1, df2, df3]"
   ]
  },
  {
   "cell_type": "code",
   "execution_count": 12,
   "id": "339cd974",
   "metadata": {},
   "outputs": [],
   "source": [
    "final=reduce(lambda left,right:pd.merge(left,right,on=[\"order_id\"], how='outer'),df5)"
   ]
  },
  {
   "cell_type": "code",
   "execution_count": 13,
   "id": "871615f3",
   "metadata": {},
   "outputs": [
    {
     "data": {
      "text/html": [
       "<div>\n",
       "<style scoped>\n",
       "    .dataframe tbody tr th:only-of-type {\n",
       "        vertical-align: middle;\n",
       "    }\n",
       "\n",
       "    .dataframe tbody tr th {\n",
       "        vertical-align: top;\n",
       "    }\n",
       "\n",
       "    .dataframe thead th {\n",
       "        text-align: right;\n",
       "    }\n",
       "</style>\n",
       "<table border=\"1\" class=\"dataframe\">\n",
       "  <thead>\n",
       "    <tr style=\"text-align: right;\">\n",
       "      <th></th>\n",
       "      <th>order_id</th>\n",
       "      <th>time_stamp</th>\n",
       "      <th>status</th>\n",
       "      <th>items_ordered</th>\n",
       "      <th>order_placed_at</th>\n",
       "    </tr>\n",
       "  </thead>\n",
       "  <tbody>\n",
       "    <tr>\n",
       "      <th>0</th>\n",
       "      <td>321230114</td>\n",
       "      <td>2020-12-11 00:01:29.000000000</td>\n",
       "      <td>Pending</td>\n",
       "      <td>['p_025', 'p_032', 'p_037']</td>\n",
       "      <td>2020-12-11 00:01:29</td>\n",
       "    </tr>\n",
       "    <tr>\n",
       "      <th>1</th>\n",
       "      <td>321230114</td>\n",
       "      <td>2020-12-11 00:06:29.000000000</td>\n",
       "      <td>Out For Delivery</td>\n",
       "      <td>['p_025', 'p_032', 'p_037']</td>\n",
       "      <td>2020-12-11 00:01:29</td>\n",
       "    </tr>\n",
       "    <tr>\n",
       "      <th>2</th>\n",
       "      <td>321230114</td>\n",
       "      <td>2020-12-11 00:19:13.299151076</td>\n",
       "      <td>Delivered</td>\n",
       "      <td>['p_025', 'p_032', 'p_037']</td>\n",
       "      <td>2020-12-11 00:01:29</td>\n",
       "    </tr>\n",
       "    <tr>\n",
       "      <th>3</th>\n",
       "      <td>321230115</td>\n",
       "      <td>2020-12-11 00:36:02.000000000</td>\n",
       "      <td>Pending</td>\n",
       "      <td>['p_017', 'p_012']</td>\n",
       "      <td>2020-12-11 00:36:02</td>\n",
       "    </tr>\n",
       "    <tr>\n",
       "      <th>4</th>\n",
       "      <td>321230115</td>\n",
       "      <td>2020-12-11 00:41:02.000000000</td>\n",
       "      <td>Out For Delivery</td>\n",
       "      <td>['p_017', 'p_012']</td>\n",
       "      <td>2020-12-11 00:36:02</td>\n",
       "    </tr>\n",
       "    <tr>\n",
       "      <th>...</th>\n",
       "      <td>...</td>\n",
       "      <td>...</td>\n",
       "      <td>...</td>\n",
       "      <td>...</td>\n",
       "      <td>...</td>\n",
       "    </tr>\n",
       "    <tr>\n",
       "      <th>1363003</th>\n",
       "      <td>321684449</td>\n",
       "      <td>2024-02-01 00:00:46.000000000</td>\n",
       "      <td>Out For Delivery</td>\n",
       "      <td>['p_022', 'p_037']</td>\n",
       "      <td>2024-01-31 23:55:46</td>\n",
       "    </tr>\n",
       "    <tr>\n",
       "      <th>1363004</th>\n",
       "      <td>321684449</td>\n",
       "      <td>2024-02-01 00:14:56.997433391</td>\n",
       "      <td>Delivered</td>\n",
       "      <td>['p_022', 'p_037']</td>\n",
       "      <td>2024-01-31 23:55:46</td>\n",
       "    </tr>\n",
       "    <tr>\n",
       "      <th>1363005</th>\n",
       "      <td>321684448</td>\n",
       "      <td>2024-01-31 23:58:05.000000000</td>\n",
       "      <td>Pending</td>\n",
       "      <td>['p_007', 'p_003', 'p_037']</td>\n",
       "      <td>2024-01-31 23:58:05</td>\n",
       "    </tr>\n",
       "    <tr>\n",
       "      <th>1363006</th>\n",
       "      <td>321684448</td>\n",
       "      <td>2024-02-01 00:03:05.000000000</td>\n",
       "      <td>Out For Delivery</td>\n",
       "      <td>['p_007', 'p_003', 'p_037']</td>\n",
       "      <td>2024-01-31 23:58:05</td>\n",
       "    </tr>\n",
       "    <tr>\n",
       "      <th>1363007</th>\n",
       "      <td>321684448</td>\n",
       "      <td>2024-02-01 00:17:50.996900711</td>\n",
       "      <td>Delivered</td>\n",
       "      <td>['p_007', 'p_003', 'p_037']</td>\n",
       "      <td>2024-01-31 23:58:05</td>\n",
       "    </tr>\n",
       "  </tbody>\n",
       "</table>\n",
       "<p>1363008 rows × 5 columns</p>\n",
       "</div>"
      ],
      "text/plain": [
       "          order_id                     time_stamp            status  \\\n",
       "0        321230114  2020-12-11 00:01:29.000000000           Pending   \n",
       "1        321230114  2020-12-11 00:06:29.000000000  Out For Delivery   \n",
       "2        321230114  2020-12-11 00:19:13.299151076         Delivered   \n",
       "3        321230115  2020-12-11 00:36:02.000000000           Pending   \n",
       "4        321230115  2020-12-11 00:41:02.000000000  Out For Delivery   \n",
       "...            ...                            ...               ...   \n",
       "1363003  321684449  2024-02-01 00:00:46.000000000  Out For Delivery   \n",
       "1363004  321684449  2024-02-01 00:14:56.997433391         Delivered   \n",
       "1363005  321684448  2024-01-31 23:58:05.000000000           Pending   \n",
       "1363006  321684448  2024-02-01 00:03:05.000000000  Out For Delivery   \n",
       "1363007  321684448  2024-02-01 00:17:50.996900711         Delivered   \n",
       "\n",
       "                       items_ordered      order_placed_at  \n",
       "0        ['p_025', 'p_032', 'p_037']  2020-12-11 00:01:29  \n",
       "1        ['p_025', 'p_032', 'p_037']  2020-12-11 00:01:29  \n",
       "2        ['p_025', 'p_032', 'p_037']  2020-12-11 00:01:29  \n",
       "3                 ['p_017', 'p_012']  2020-12-11 00:36:02  \n",
       "4                 ['p_017', 'p_012']  2020-12-11 00:36:02  \n",
       "...                              ...                  ...  \n",
       "1363003           ['p_022', 'p_037']  2024-01-31 23:55:46  \n",
       "1363004           ['p_022', 'p_037']  2024-01-31 23:55:46  \n",
       "1363005  ['p_007', 'p_003', 'p_037']  2024-01-31 23:58:05  \n",
       "1363006  ['p_007', 'p_003', 'p_037']  2024-01-31 23:58:05  \n",
       "1363007  ['p_007', 'p_003', 'p_037']  2024-01-31 23:58:05  \n",
       "\n",
       "[1363008 rows x 5 columns]"
      ]
     },
     "execution_count": 13,
     "metadata": {},
     "output_type": "execute_result"
    }
   ],
   "source": [
    "final"
   ]
  },
  {
   "cell_type": "code",
   "execution_count": 14,
   "id": "0336b94b",
   "metadata": {},
   "outputs": [],
   "source": [
    "out_for_delivery = df1[df1['status'] == 'Out For Delivery']\n",
    "delivered = df1[df1['status'] == 'Delivered']"
   ]
  },
  {
   "cell_type": "code",
   "execution_count": 15,
   "id": "58e6420d",
   "metadata": {},
   "outputs": [],
   "source": [
    "merged_df = pd.merge(out_for_delivery[['order_id', 'time_stamp']], \n",
    "                     delivered[['order_id', 'time_stamp']], \n",
    "                     on='order_id', \n",
    "                     suffixes=('_out_for_delivery', '_delivered'))"
   ]
  },
  {
   "cell_type": "code",
   "execution_count": 16,
   "id": "942518f1",
   "metadata": {},
   "outputs": [],
   "source": [
    "merged_df['time_stamp_out_for_delivery'] = pd.to_datetime(merged_df['time_stamp_out_for_delivery'])\n",
    "merged_df['time_stamp_delivered'] = pd.to_datetime(merged_df['time_stamp_delivered'])"
   ]
  },
  {
   "cell_type": "code",
   "execution_count": 17,
   "id": "906a6970",
   "metadata": {},
   "outputs": [],
   "source": [
    "merged_df['delivery_time_minutes'] = (merged_df['time_stamp_delivered'] - merged_df['time_stamp_out_for_delivery']).dt.total_seconds() / 60\n"
   ]
  },
  {
   "cell_type": "code",
   "execution_count": 18,
   "id": "2deaf448",
   "metadata": {},
   "outputs": [
    {
     "name": "stdout",
     "output_type": "stream",
     "text": [
      "Average Delivery Time: 15.64756077074626 minutes\n"
     ]
    }
   ],
   "source": [
    "average_delivery_time = merged_df['delivery_time_minutes'].mean()\n",
    "\n",
    "print(f\"Average Delivery Time: {average_delivery_time} minutes\")"
   ]
  },
  {
   "cell_type": "code",
   "execution_count": 19,
   "id": "5c90f455",
   "metadata": {},
   "outputs": [],
   "source": [
    "max_delivery_time_order = merged_df.loc[merged_df['delivery_time_minutes'].idxmax()]"
   ]
  },
  {
   "cell_type": "code",
   "execution_count": 20,
   "id": "9cd2f4aa",
   "metadata": {},
   "outputs": [
    {
     "name": "stdout",
     "output_type": "stream",
     "text": [
      "Order ID with maximum delivery time: 321629049\n",
      "Maximum delivery time: 57.912078128716665 minutes\n"
     ]
    }
   ],
   "source": [
    "order_id_max_delivery = max_delivery_time_order['order_id']\n",
    "max_delivery_time = max_delivery_time_order['delivery_time_minutes']\n",
    "print(f\"Order ID with maximum delivery time: {order_id_max_delivery}\")\n",
    "print(f\"Maximum delivery time: {max_delivery_time} minutes\")"
   ]
  },
  {
   "cell_type": "code",
   "execution_count": 21,
   "id": "b96e4d6b",
   "metadata": {},
   "outputs": [
    {
     "name": "stdout",
     "output_type": "stream",
     "text": [
      "99th percentile Delivery Time: 25.895424588832544 minutes\n"
     ]
    }
   ],
   "source": [
    "percentile_99_delivery_time = merged_df['delivery_time_minutes'].quantile(0.99)\n",
    "print(f\"99th percentile Delivery Time: {percentile_99_delivery_time} minutes\")"
   ]
  },
  {
   "cell_type": "code",
   "execution_count": 22,
   "id": "8465f43b",
   "metadata": {},
   "outputs": [
    {
     "name": "stdout",
     "output_type": "stream",
     "text": [
      "the pizzas ordered between 1st and 31st January 2024 are: 30336\n"
     ]
    }
   ],
   "source": [
    "df3['order_placed_at'] = pd.to_datetime(df3['order_placed_at'])\n",
    "\n",
    "start_date = '2024-01-01'\n",
    "end_date = '2024-01-31'\n",
    "\n",
    "january_orders = df3[(df3['order_placed_at'] >= start_date) & (df3['order_placed_at'] <= end_date)]\n",
    "merged_orders = pd.merge(january_orders[['order_id']], df2, on='order_id')\n",
    "pizza_count = merged_orders['items_ordered'].apply(lambda x: len(eval(x))).sum()\n",
    "print(f\"the pizzas ordered between 1st and 31st January 2024 are: {pizza_count}\")"
   ]
  },
  {
   "cell_type": "code",
   "execution_count": 23,
   "id": "7bd09e34",
   "metadata": {},
   "outputs": [],
   "source": [
    "df3['order_placed_at'] = pd.to_datetime(df3['order_placed_at'])\n",
    "df1['time_stamp'] = pd.to_datetime(df1['time_stamp'])\n",
    "\n",
    "start_date = '2024-01-01'\n",
    "end_date = '2024-01-31'\n",
    "january_orders = df3[(df3['order_placed_at'] >= start_date) & (df3['order_placed_at'] <= end_date)]\n",
    "\n",
    "out_for_delivery = df1[df1['status'] == 'Out For Delivery']\n",
    "delivered = df1[df1['status'] == 'Delivered']\n"
   ]
  },
  {
   "cell_type": "code",
   "execution_count": 24,
   "id": "84aebdb7",
   "metadata": {},
   "outputs": [
    {
     "name": "stdout",
     "output_type": "stream",
     "text": [
      "orders that took more than 30 minutes to deliver between 1st and 31st January 2024: 36\n"
     ]
    }
   ],
   "source": [
    "merged_df = pd.merge(out_for_delivery[['order_id', 'time_stamp']], \n",
    "                     delivered[['order_id', 'time_stamp']], \n",
    "                     on='order_id', \n",
    "                     suffixes=('_out_for_delivery', '_delivered'))\n",
    "\n",
    "merged_df['delivery_time_minutes'] = (merged_df['time_stamp_delivered'] - merged_df['time_stamp_out_for_delivery']).dt.total_seconds() / 60\n",
    "\n",
    "orders_over_30_minutes = merged_df[merged_df['delivery_time_minutes'] > 30]\n",
    "\n",
    "january_orders_over_30_minutes = january_orders[january_orders['order_id'].isin(orders_over_30_minutes['order_id'])]\n",
    "\n",
    "num_orders_over_30_minutes = january_orders_over_30_minutes['order_id'].nunique()\n",
    "\n",
    "print(f\"orders that took more than 30 minutes to deliver between 1st and 31st January 2024: {num_orders_over_30_minutes}\")"
   ]
  },
  {
   "cell_type": "code",
   "execution_count": 25,
   "id": "52c3aae0",
   "metadata": {},
   "outputs": [],
   "source": [
    "df3['order_placed_at'] = pd.to_datetime(df3['order_placed_at'])\n",
    "df1['time_stamp'] = pd.to_datetime(df1['time_stamp'])\n",
    "\n",
    "start_date = '2023-01-01'\n",
    "end_date = '2023-12-31'\n",
    "orders_2023 = df3[(df3['order_placed_at'] >= start_date) & (df3['order_placed_at'] <= end_date)]\n",
    "\n",
    "out_for_delivery = df1[df1['status'] == 'Out For Delivery']\n",
    "delivered = df1[df1['status'] == 'Delivered']"
   ]
  },
  {
   "cell_type": "code",
   "execution_count": 26,
   "id": "47321a5d",
   "metadata": {},
   "outputs": [
    {
     "ename": "KeyError",
     "evalue": "'refund_amount'",
     "output_type": "error",
     "traceback": [
      "\u001b[1;31m---------------------------------------------------------------------------\u001b[0m",
      "\u001b[1;31mKeyError\u001b[0m                                  Traceback (most recent call last)",
      "File \u001b[1;32m~\\anaconda3\\Lib\\site-packages\\pandas\\core\\indexes\\base.py:3802\u001b[0m, in \u001b[0;36mIndex.get_loc\u001b[1;34m(self, key, method, tolerance)\u001b[0m\n\u001b[0;32m   3801\u001b[0m \u001b[38;5;28;01mtry\u001b[39;00m:\n\u001b[1;32m-> 3802\u001b[0m     \u001b[38;5;28;01mreturn\u001b[39;00m \u001b[38;5;28mself\u001b[39m\u001b[38;5;241m.\u001b[39m_engine\u001b[38;5;241m.\u001b[39mget_loc(casted_key)\n\u001b[0;32m   3803\u001b[0m \u001b[38;5;28;01mexcept\u001b[39;00m \u001b[38;5;167;01mKeyError\u001b[39;00m \u001b[38;5;28;01mas\u001b[39;00m err:\n",
      "File \u001b[1;32m~\\anaconda3\\Lib\\site-packages\\pandas\\_libs\\index.pyx:138\u001b[0m, in \u001b[0;36mpandas._libs.index.IndexEngine.get_loc\u001b[1;34m()\u001b[0m\n",
      "File \u001b[1;32m~\\anaconda3\\Lib\\site-packages\\pandas\\_libs\\index.pyx:165\u001b[0m, in \u001b[0;36mpandas._libs.index.IndexEngine.get_loc\u001b[1;34m()\u001b[0m\n",
      "File \u001b[1;32mpandas\\_libs\\hashtable_class_helper.pxi:5745\u001b[0m, in \u001b[0;36mpandas._libs.hashtable.PyObjectHashTable.get_item\u001b[1;34m()\u001b[0m\n",
      "File \u001b[1;32mpandas\\_libs\\hashtable_class_helper.pxi:5753\u001b[0m, in \u001b[0;36mpandas._libs.hashtable.PyObjectHashTable.get_item\u001b[1;34m()\u001b[0m\n",
      "\u001b[1;31mKeyError\u001b[0m: 'refund_amount'",
      "\nThe above exception was the direct cause of the following exception:\n",
      "\u001b[1;31mKeyError\u001b[0m                                  Traceback (most recent call last)",
      "Cell \u001b[1;32mIn[26], line 13\u001b[0m\n\u001b[0;32m     10\u001b[0m late_orders_2023 \u001b[38;5;241m=\u001b[39m late_orders[late_orders[\u001b[38;5;124m'\u001b[39m\u001b[38;5;124morder_id\u001b[39m\u001b[38;5;124m'\u001b[39m]\u001b[38;5;241m.\u001b[39misin(orders_2023[\u001b[38;5;124m'\u001b[39m\u001b[38;5;124morder_id\u001b[39m\u001b[38;5;124m'\u001b[39m])]\n\u001b[0;32m     12\u001b[0m refund_data \u001b[38;5;241m=\u001b[39m pd\u001b[38;5;241m.\u001b[39mmerge(late_orders_2023[[\u001b[38;5;124m'\u001b[39m\u001b[38;5;124morder_id\u001b[39m\u001b[38;5;124m'\u001b[39m]], df3[[\u001b[38;5;124m'\u001b[39m\u001b[38;5;124morder_id\u001b[39m\u001b[38;5;124m'\u001b[39m]], on\u001b[38;5;241m=\u001b[39m\u001b[38;5;124m'\u001b[39m\u001b[38;5;124morder_id\u001b[39m\u001b[38;5;124m'\u001b[39m)\n\u001b[1;32m---> 13\u001b[0m total_refund_2023 \u001b[38;5;241m=\u001b[39m refund_data[\u001b[38;5;124m'\u001b[39m\u001b[38;5;124mrefund_amount\u001b[39m\u001b[38;5;124m'\u001b[39m]\u001b[38;5;241m.\u001b[39msum()\n",
      "File \u001b[1;32m~\\anaconda3\\Lib\\site-packages\\pandas\\core\\frame.py:3807\u001b[0m, in \u001b[0;36mDataFrame.__getitem__\u001b[1;34m(self, key)\u001b[0m\n\u001b[0;32m   3805\u001b[0m \u001b[38;5;28;01mif\u001b[39;00m \u001b[38;5;28mself\u001b[39m\u001b[38;5;241m.\u001b[39mcolumns\u001b[38;5;241m.\u001b[39mnlevels \u001b[38;5;241m>\u001b[39m \u001b[38;5;241m1\u001b[39m:\n\u001b[0;32m   3806\u001b[0m     \u001b[38;5;28;01mreturn\u001b[39;00m \u001b[38;5;28mself\u001b[39m\u001b[38;5;241m.\u001b[39m_getitem_multilevel(key)\n\u001b[1;32m-> 3807\u001b[0m indexer \u001b[38;5;241m=\u001b[39m \u001b[38;5;28mself\u001b[39m\u001b[38;5;241m.\u001b[39mcolumns\u001b[38;5;241m.\u001b[39mget_loc(key)\n\u001b[0;32m   3808\u001b[0m \u001b[38;5;28;01mif\u001b[39;00m is_integer(indexer):\n\u001b[0;32m   3809\u001b[0m     indexer \u001b[38;5;241m=\u001b[39m [indexer]\n",
      "File \u001b[1;32m~\\anaconda3\\Lib\\site-packages\\pandas\\core\\indexes\\base.py:3804\u001b[0m, in \u001b[0;36mIndex.get_loc\u001b[1;34m(self, key, method, tolerance)\u001b[0m\n\u001b[0;32m   3802\u001b[0m     \u001b[38;5;28;01mreturn\u001b[39;00m \u001b[38;5;28mself\u001b[39m\u001b[38;5;241m.\u001b[39m_engine\u001b[38;5;241m.\u001b[39mget_loc(casted_key)\n\u001b[0;32m   3803\u001b[0m \u001b[38;5;28;01mexcept\u001b[39;00m \u001b[38;5;167;01mKeyError\u001b[39;00m \u001b[38;5;28;01mas\u001b[39;00m err:\n\u001b[1;32m-> 3804\u001b[0m     \u001b[38;5;28;01mraise\u001b[39;00m \u001b[38;5;167;01mKeyError\u001b[39;00m(key) \u001b[38;5;28;01mfrom\u001b[39;00m \u001b[38;5;21;01merr\u001b[39;00m\n\u001b[0;32m   3805\u001b[0m \u001b[38;5;28;01mexcept\u001b[39;00m \u001b[38;5;167;01mTypeError\u001b[39;00m:\n\u001b[0;32m   3806\u001b[0m     \u001b[38;5;66;03m# If we have a listlike key, _check_indexing_error will raise\u001b[39;00m\n\u001b[0;32m   3807\u001b[0m     \u001b[38;5;66;03m#  InvalidIndexError. Otherwise we fall through and re-raise\u001b[39;00m\n\u001b[0;32m   3808\u001b[0m     \u001b[38;5;66;03m#  the TypeError.\u001b[39;00m\n\u001b[0;32m   3809\u001b[0m     \u001b[38;5;28mself\u001b[39m\u001b[38;5;241m.\u001b[39m_check_indexing_error(key)\n",
      "\u001b[1;31mKeyError\u001b[0m: 'refund_amount'"
     ]
    }
   ],
   "source": [
    "merged_df = pd.merge(out_for_delivery[['order_id', 'time_stamp']], \n",
    "                     delivered[['order_id', 'time_stamp']], \n",
    "                     on='order_id', \n",
    "                     suffixes=('_out_for_delivery', '_delivered'))\n",
    "\n",
    "merged_df['delivery_time_minutes'] = (merged_df['time_stamp_delivered'] - merged_df['time_stamp_out_for_delivery']).dt.total_seconds() / 60\n",
    "\n",
    "late_orders = merged_df[merged_df['delivery_time_minutes'] > 30]\n",
    "\n",
    "late_orders_2023 = late_orders[late_orders['order_id'].isin(orders_2023['order_id'])]\n",
    "\n",
    "refund_data = pd.merge(late_orders_2023[['order_id']], df3[['order_id']], on='order_id')\n",
    "total_refund_2023 = refund_data['refund_amount'].sum()"
   ]
  },
  {
   "cell_type": "code",
   "execution_count": null,
   "id": "29d7ba8c",
   "metadata": {},
   "outputs": [],
   "source": [
    "df3['order_placed_at'] = pd.to_datetime(df3['order_placed_at'])\n",
    "df1['time_stamp'] = pd.to_datetime(df1['time_stamp'])\n",
    "\n",
    "out_for_delivery = df1[df1['status'] == 'Out For Delivery']\n",
    "delivered = df1[df1['status'] == 'Delivered']\n",
    "\n",
    "merged_df = pd.merge(out_for_delivery[['order_id', 'time_stamp']], delivered[['order_id', 'time_stamp']], \n",
    "                     on='order_id', suffixes=('_out_for_delivery', '_delivered'))"
   ]
  },
  {
   "cell_type": "code",
   "execution_count": null,
   "id": "6b6a651e",
   "metadata": {},
   "outputs": [],
   "source": [
    "merged_df['delivery_time_minutes'] = (merged_df['time_stamp_delivered'] - merged_df['time_stamp_out_for_delivery']).dt.total_seconds() / 60\n",
    "\n",
    "late_orders = merged_df[merged_df['delivery_time_minutes'] > 30]\n",
    "\n",
    "late_orders_with_refund = pd.merge(late_orders[['order_id']], df3[['order_id', 'order_placed_at']], on='order_id')\n",
    "\n",
    "late_orders_with_refund['year'] = late_orders_with_refund['order_placed_at'].dt.year\n",
    "\n",
    "refund_per_year = late_orders_with_refund.groupby('year')['refund_amount'].sum()\n",
    "\n"
   ]
  },
  {
   "cell_type": "code",
   "execution_count": null,
   "id": "3ccf46d0",
   "metadata": {},
   "outputs": [],
   "source": [
    "total_revenue = df4['Price'].sum()\n",
    "\n",
    "total_refunds = df2['refund_amount'].sum()\n"
   ]
  },
  {
   "cell_type": "code",
   "execution_count": 34,
   "id": "c5f944e7",
   "metadata": {},
   "outputs": [
    {
     "ename": "KeyError",
     "evalue": "'Column not found: refund_amount'",
     "output_type": "error",
     "traceback": [
      "\u001b[1;31m---------------------------------------------------------------------------\u001b[0m",
      "\u001b[1;31mKeyError\u001b[0m                                  Traceback (most recent call last)",
      "Cell \u001b[1;32mIn[34], line 3\u001b[0m\n\u001b[0;32m      1\u001b[0m df3[\u001b[38;5;124m'\u001b[39m\u001b[38;5;124morder_placed_at\u001b[39m\u001b[38;5;124m'\u001b[39m] \u001b[38;5;241m=\u001b[39m pd\u001b[38;5;241m.\u001b[39mto_datetime(df3[\u001b[38;5;124m'\u001b[39m\u001b[38;5;124morder_placed_at\u001b[39m\u001b[38;5;124m'\u001b[39m])\n\u001b[0;32m      2\u001b[0m df3[\u001b[38;5;124m'\u001b[39m\u001b[38;5;124myear_month\u001b[39m\u001b[38;5;124m'\u001b[39m] \u001b[38;5;241m=\u001b[39m df3[\u001b[38;5;124m'\u001b[39m\u001b[38;5;124morder_placed_at\u001b[39m\u001b[38;5;124m'\u001b[39m]\u001b[38;5;241m.\u001b[39mdt\u001b[38;5;241m.\u001b[39mto_period(\u001b[38;5;124m'\u001b[39m\u001b[38;5;124mM\u001b[39m\u001b[38;5;124m'\u001b[39m)\n\u001b[1;32m----> 3\u001b[0m refund_trends \u001b[38;5;241m=\u001b[39m df3\u001b[38;5;241m.\u001b[39mgroupby(\u001b[38;5;124m'\u001b[39m\u001b[38;5;124myear_month\u001b[39m\u001b[38;5;124m'\u001b[39m)[\u001b[38;5;124m'\u001b[39m\u001b[38;5;124mrefund_amount\u001b[39m\u001b[38;5;124m'\u001b[39m]\u001b[38;5;241m.\u001b[39msum()\n",
      "File \u001b[1;32m~\\anaconda3\\Lib\\site-packages\\pandas\\core\\groupby\\generic.py:1416\u001b[0m, in \u001b[0;36mDataFrameGroupBy.__getitem__\u001b[1;34m(self, key)\u001b[0m\n\u001b[0;32m   1407\u001b[0m \u001b[38;5;28;01mif\u001b[39;00m \u001b[38;5;28misinstance\u001b[39m(key, \u001b[38;5;28mtuple\u001b[39m) \u001b[38;5;129;01mand\u001b[39;00m \u001b[38;5;28mlen\u001b[39m(key) \u001b[38;5;241m>\u001b[39m \u001b[38;5;241m1\u001b[39m:\n\u001b[0;32m   1408\u001b[0m     \u001b[38;5;66;03m# if len == 1, then it becomes a SeriesGroupBy and this is actually\u001b[39;00m\n\u001b[0;32m   1409\u001b[0m     \u001b[38;5;66;03m# valid syntax, so don't raise warning\u001b[39;00m\n\u001b[0;32m   1410\u001b[0m     warnings\u001b[38;5;241m.\u001b[39mwarn(\n\u001b[0;32m   1411\u001b[0m         \u001b[38;5;124m\"\u001b[39m\u001b[38;5;124mIndexing with multiple keys (implicitly converted to a tuple \u001b[39m\u001b[38;5;124m\"\u001b[39m\n\u001b[0;32m   1412\u001b[0m         \u001b[38;5;124m\"\u001b[39m\u001b[38;5;124mof keys) will be deprecated, use a list instead.\u001b[39m\u001b[38;5;124m\"\u001b[39m,\n\u001b[0;32m   1413\u001b[0m         \u001b[38;5;167;01mFutureWarning\u001b[39;00m,\n\u001b[0;32m   1414\u001b[0m         stacklevel\u001b[38;5;241m=\u001b[39mfind_stack_level(),\n\u001b[0;32m   1415\u001b[0m     )\n\u001b[1;32m-> 1416\u001b[0m \u001b[38;5;28;01mreturn\u001b[39;00m \u001b[38;5;28msuper\u001b[39m()\u001b[38;5;241m.\u001b[39m\u001b[38;5;21m__getitem__\u001b[39m(key)\n",
      "File \u001b[1;32m~\\anaconda3\\Lib\\site-packages\\pandas\\core\\base.py:248\u001b[0m, in \u001b[0;36mSelectionMixin.__getitem__\u001b[1;34m(self, key)\u001b[0m\n\u001b[0;32m    246\u001b[0m \u001b[38;5;28;01melse\u001b[39;00m:\n\u001b[0;32m    247\u001b[0m     \u001b[38;5;28;01mif\u001b[39;00m key \u001b[38;5;129;01mnot\u001b[39;00m \u001b[38;5;129;01min\u001b[39;00m \u001b[38;5;28mself\u001b[39m\u001b[38;5;241m.\u001b[39mobj:\n\u001b[1;32m--> 248\u001b[0m         \u001b[38;5;28;01mraise\u001b[39;00m \u001b[38;5;167;01mKeyError\u001b[39;00m(\u001b[38;5;124mf\u001b[39m\u001b[38;5;124m\"\u001b[39m\u001b[38;5;124mColumn not found: \u001b[39m\u001b[38;5;132;01m{\u001b[39;00mkey\u001b[38;5;132;01m}\u001b[39;00m\u001b[38;5;124m\"\u001b[39m)\n\u001b[0;32m    249\u001b[0m     subset \u001b[38;5;241m=\u001b[39m \u001b[38;5;28mself\u001b[39m\u001b[38;5;241m.\u001b[39mobj[key]\n\u001b[0;32m    250\u001b[0m     ndim \u001b[38;5;241m=\u001b[39m subset\u001b[38;5;241m.\u001b[39mndim\n",
      "\u001b[1;31mKeyError\u001b[0m: 'Column not found: refund_amount'"
     ]
    }
   ],
   "source": [
    "df3['order_placed_at'] = pd.to_datetime(df3['order_placed_at'])\n",
    "df3['year_month'] = df3['order_placed_at'].dt.to_period('M')\n",
    "refund_trends = df3.groupby('year_month')['refund_amount'].sum()\n"
   ]
  },
  {
   "cell_type": "code",
   "execution_count": null,
   "id": "d0138073",
   "metadata": {},
   "outputs": [],
   "source": []
  },
  {
   "cell_type": "code",
   "execution_count": 39,
   "id": "af6fec4a",
   "metadata": {},
   "outputs": [
    {
     "data": {
      "image/png": "[encoded data removed]",
      "text/plain": [
       "<Figure size 1000x600 with 1 Axes>"
      ]
     },
     "metadata": {},
     "output_type": "display_data"
    }
   ],
   "source": [
    "df3['order_placed_at'] = pd.to_datetime(df3['order_placed_at'])\n",
    "df3['order_hour'] = df3['order_placed_at'].dt.hour\n",
    "\n",
    "orders_per_hour = df3.groupby('order_hour').size()\n",
    "\n",
    "lambda_rate = orders_per_hour.mean()\n",
    "\n",
    "hours = np.arange(0, 24)\n",
    "poisson_dist = poisson.pmf(hours, lambda_rate)\n",
    "\n",
    "plt.figure(figsize=(10,6))\n",
    "plt.bar(orders_per_hour.index, orders_per_hour, alpha=0.6, label='Actual Orders per Hour')\n",
    "plt.plot(hours, poisson_dist * len(df3), 'r-', lw=2, label=f'Poisson Distribution (λ={lambda_rate:.2f})')\n",
    "plt.xlabel('Hour of the Day')\n",
    "plt.ylabel('Number of Orders')\n",
    "plt.title('Actual Orders vs Poisson Distribution')\n",
    "plt.legend()\n",
    "plt.show()"
   ]
  },
  {
   "cell_type": "code",
   "execution_count": null,
   "id": "85a5cfd4",
   "metadata": {},
   "outputs": [],
   "source": []
  },
  {
   "cell_type": "code",
   "execution_count": null,
   "id": "4d7784ff",
   "metadata": {},
   "outputs": [],
   "source": []
  }
 ],
 "metadata": {
  "kernelspec": {
   "display_name": "Python 3 (ipykernel)",
   "language": "python",
   "name": "python3"
  },
  "language_info": {
   "codemirror_mode": {
    "name": "ipython",
    "version": 3
   },
   "file_extension": ".py",
   "mimetype": "text/x-python",
   "name": "python",
   "nbconvert_exporter": "python",
   "pygments_lexer": "ipython3",
   "version": "3.11.4"
  }
 },
 "nbformat": 4,
 "nbformat_minor": 5
}
