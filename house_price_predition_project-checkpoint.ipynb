{
 "cells": [
  {
   "cell_type": "code",
   "execution_count": null,
   "metadata": {
    "_cell_guid": "b1076dfc-b9ad-4769-8c92-a6c4dae69d19",
    "_uuid": "8f2839f25d086af736a60e9eeb907d3b93b6e0e5",
    "execution": {
     "iopub.execute_input": "2023-11-05T07:47:24.94844Z",
     "iopub.status.busy": "2023-11-05T07:47:24.947962Z",
     "iopub.status.idle": "2023-11-05T07:47:25.000107Z",
     "shell.execute_reply": "2023-11-05T07:47:24.998987Z",
     "shell.execute_reply.started": "2023-11-05T07:47:24.948405Z"
    }
   },
   "outputs": [],
   "source": [
    "# This Python 3 environment comes with many helpful analytics libraries installed\n",
    "# It is defined by the kaggle/python Docker image: https://github.com/kaggle/docker-python\n",
    "# For example, here's several helpful packages to load\n",
    "\n",
    "import numpy as np # linear algebra\n",
    "import pandas as pd # data processing, CSV file I/O (e.g. pd.read_csv)\n",
    "\n",
    "# Input data files are available in the read-only \"../input/\" directory\n",
    "# For example, running this (by clicking run or pressing Shift+Enter) will list all files under the input directory\n",
    "\n",
    "import os\n",
    "for dirname, _, filenames in os.walk('/kaggle/input'):\n",
    "    for filename in filenames:\n",
    "        print(os.path.join(dirname, filename))\n",
    "\n",
    "# You can write up to 20GB to the current directory (/kaggle/working/) that gets preserved as output when you create a version using \"Save & Run All\" \n",
    "# You can also write temporary files to /kaggle/temp/, but they won't be saved outside of the current session"
   ]
  },
  {
   "cell_type": "markdown",
   "metadata": {},
   "source": [
    "# Importing Libraries"
   ]
  },
  {
   "cell_type": "code",
   "execution_count": 1,
   "metadata": {
    "execution": {
     "iopub.execute_input": "2024-08-20T07:38:38.273555Z",
     "iopub.status.busy": "2024-08-20T07:38:38.273073Z",
     "iopub.status.idle": "2024-08-20T07:38:39.679325Z",
     "shell.execute_reply": "2024-08-20T07:38:39.678091Z",
     "shell.execute_reply.started": "2024-08-20T07:38:38.273519Z"
    }
   },
   "outputs": [
    {
     "name": "stderr",
     "output_type": "stream",
     "text": [
      "/opt/conda/lib/python3.10/site-packages/scipy/__init__.py:146: UserWarning: A NumPy version >=1.16.5 and <1.23.0 is required for this version of SciPy (detected version 1.23.5\n",
      "  warnings.warn(f\"A NumPy version >={np_minversion} and <{np_maxversion}\"\n"
     ]
    }
   ],
   "source": [
    "import numpy as np\n",
    "import pandas as pd\n",
    "import matplotlib.pyplot as plt\n",
    "import seaborn as sns"
   ]
  },
  {
   "cell_type": "markdown",
   "metadata": {},
   "source": [
    "# Loading Dataset"
   ]
  },
  {
   "cell_type": "markdown",
   "metadata": {},
   "source": [
    "# EDA and Exploration of Dataset"
   ]
  },
  {
   "cell_type": "code",
   "execution_count": 2,
   "metadata": {
    "execution": {
     "iopub.execute_input": "2024-08-20T07:38:39.681819Z",
     "iopub.status.busy": "2024-08-20T07:38:39.681474Z",
     "iopub.status.idle": "2024-08-20T07:38:39.738082Z",
     "shell.execute_reply": "2024-08-20T07:38:39.737002Z",
     "shell.execute_reply.started": "2024-08-20T07:38:39.681788Z"
    }
   },
   "outputs": [
    {
     "data": {
      "text/plain": [
       "(13320, 9)"
      ]
     },
     "execution_count": 2,
     "metadata": {},
     "output_type": "execute_result"
    }
   ],
   "source": [
    "df = pd.read_csv(\"/kaggle/input/bengaluru-house-price-data/Bengaluru_House_Data.csv\")\n",
    "df.shape"
   ]
  },
  {
   "cell_type": "code",
   "execution_count": 3,
   "metadata": {
    "execution": {
     "iopub.execute_input": "2024-08-20T07:38:39.739673Z",
     "iopub.status.busy": "2024-08-20T07:38:39.739323Z",
     "iopub.status.idle": "2024-08-20T07:38:39.763239Z",
     "shell.execute_reply": "2024-08-20T07:38:39.762185Z",
     "shell.execute_reply.started": "2024-08-20T07:38:39.739642Z"
    }
   },
   "outputs": [
    {
     "data": {
      "text/html": [
       "<div>\n",
       "<style scoped>\n",
       "    .dataframe tbody tr th:only-of-type {\n",
       "        vertical-align: middle;\n",
       "    }\n",
       "\n",
       "    .dataframe tbody tr th {\n",
       "        vertical-align: top;\n",
       "    }\n",
       "\n",
       "    .dataframe thead th {\n",
       "        text-align: right;\n",
       "    }\n",
       "</style>\n",
       "<table border=\"1\" class=\"dataframe\">\n",
       "  <thead>\n",
       "    <tr style=\"text-align: right;\">\n",
       "      <th></th>\n",
       "      <th>area_type</th>\n",
       "      <th>availability</th>\n",
       "      <th>location</th>\n",
       "      <th>size</th>\n",
       "      <th>society</th>\n",
       "      <th>total_sqft</th>\n",
       "      <th>bath</th>\n",
       "      <th>balcony</th>\n",
       "      <th>price</th>\n",
       "    </tr>\n",
       "  </thead>\n",
       "  <tbody>\n",
       "    <tr>\n",
       "      <th>0</th>\n",
       "      <td>Super built-up  Area</td>\n",
       "      <td>19-Dec</td>\n",
       "      <td>Electronic City Phase II</td>\n",
       "      <td>2 BHK</td>\n",
       "      <td>Coomee</td>\n",
       "      <td>1056</td>\n",
       "      <td>2.0</td>\n",
       "      <td>1.0</td>\n",
       "      <td>39.07</td>\n",
       "    </tr>\n",
       "    <tr>\n",
       "      <th>1</th>\n",
       "      <td>Plot  Area</td>\n",
       "      <td>Ready To Move</td>\n",
       "      <td>Chikka Tirupathi</td>\n",
       "      <td>4 Bedroom</td>\n",
       "      <td>Theanmp</td>\n",
       "      <td>2600</td>\n",
       "      <td>5.0</td>\n",
       "      <td>3.0</td>\n",
       "      <td>120.00</td>\n",
       "    </tr>\n",
       "    <tr>\n",
       "      <th>2</th>\n",
       "      <td>Built-up  Area</td>\n",
       "      <td>Ready To Move</td>\n",
       "      <td>Uttarahalli</td>\n",
       "      <td>3 BHK</td>\n",
       "      <td>NaN</td>\n",
       "      <td>1440</td>\n",
       "      <td>2.0</td>\n",
       "      <td>3.0</td>\n",
       "      <td>62.00</td>\n",
       "    </tr>\n",
       "    <tr>\n",
       "      <th>3</th>\n",
       "      <td>Super built-up  Area</td>\n",
       "      <td>Ready To Move</td>\n",
       "      <td>Lingadheeranahalli</td>\n",
       "      <td>3 BHK</td>\n",
       "      <td>Soiewre</td>\n",
       "      <td>1521</td>\n",
       "      <td>3.0</td>\n",
       "      <td>1.0</td>\n",
       "      <td>95.00</td>\n",
       "    </tr>\n",
       "    <tr>\n",
       "      <th>4</th>\n",
       "      <td>Super built-up  Area</td>\n",
       "      <td>Ready To Move</td>\n",
       "      <td>Kothanur</td>\n",
       "      <td>2 BHK</td>\n",
       "      <td>NaN</td>\n",
       "      <td>1200</td>\n",
       "      <td>2.0</td>\n",
       "      <td>1.0</td>\n",
       "      <td>51.00</td>\n",
       "    </tr>\n",
       "  </tbody>\n",
       "</table>\n",
       "</div>"
      ],
      "text/plain": [
       "              area_type   availability                  location       size  \\\n",
       "0  Super built-up  Area         19-Dec  Electronic City Phase II      2 BHK   \n",
       "1            Plot  Area  Ready To Move          Chikka Tirupathi  4 Bedroom   \n",
       "2        Built-up  Area  Ready To Move               Uttarahalli      3 BHK   \n",
       "3  Super built-up  Area  Ready To Move        Lingadheeranahalli      3 BHK   \n",
       "4  Super built-up  Area  Ready To Move                  Kothanur      2 BHK   \n",
       "\n",
       "   society total_sqft  bath  balcony   price  \n",
       "0  Coomee        1056   2.0      1.0   39.07  \n",
       "1  Theanmp       2600   5.0      3.0  120.00  \n",
       "2      NaN       1440   2.0      3.0   62.00  \n",
       "3  Soiewre       1521   3.0      1.0   95.00  \n",
       "4      NaN       1200   2.0      1.0   51.00  "
      ]
     },
     "execution_count": 3,
     "metadata": {},
     "output_type": "execute_result"
    }
   ],
   "source": [
    "df.head()"
   ]
  },
  {
   "cell_type": "code",
   "execution_count": 4,
   "metadata": {
    "execution": {
     "iopub.execute_input": "2024-08-20T07:38:39.764805Z",
     "iopub.status.busy": "2024-08-20T07:38:39.764479Z",
     "iopub.status.idle": "2024-08-20T07:38:39.780433Z",
     "shell.execute_reply": "2024-08-20T07:38:39.779354Z",
     "shell.execute_reply.started": "2024-08-20T07:38:39.764774Z"
    }
   },
   "outputs": [
    {
     "data": {
      "text/html": [
       "<div>\n",
       "<style scoped>\n",
       "    .dataframe tbody tr th:only-of-type {\n",
       "        vertical-align: middle;\n",
       "    }\n",
       "\n",
       "    .dataframe tbody tr th {\n",
       "        vertical-align: top;\n",
       "    }\n",
       "\n",
       "    .dataframe thead th {\n",
       "        text-align: right;\n",
       "    }\n",
       "</style>\n",
       "<table border=\"1\" class=\"dataframe\">\n",
       "  <thead>\n",
       "    <tr style=\"text-align: right;\">\n",
       "      <th></th>\n",
       "      <th>area_type</th>\n",
       "      <th>availability</th>\n",
       "      <th>location</th>\n",
       "      <th>size</th>\n",
       "      <th>society</th>\n",
       "      <th>total_sqft</th>\n",
       "      <th>bath</th>\n",
       "      <th>balcony</th>\n",
       "      <th>price</th>\n",
       "    </tr>\n",
       "  </thead>\n",
       "  <tbody>\n",
       "    <tr>\n",
       "      <th>13315</th>\n",
       "      <td>Built-up  Area</td>\n",
       "      <td>Ready To Move</td>\n",
       "      <td>Whitefield</td>\n",
       "      <td>5 Bedroom</td>\n",
       "      <td>ArsiaEx</td>\n",
       "      <td>3453</td>\n",
       "      <td>4.0</td>\n",
       "      <td>0.0</td>\n",
       "      <td>231.0</td>\n",
       "    </tr>\n",
       "    <tr>\n",
       "      <th>13316</th>\n",
       "      <td>Super built-up  Area</td>\n",
       "      <td>Ready To Move</td>\n",
       "      <td>Richards Town</td>\n",
       "      <td>4 BHK</td>\n",
       "      <td>NaN</td>\n",
       "      <td>3600</td>\n",
       "      <td>5.0</td>\n",
       "      <td>NaN</td>\n",
       "      <td>400.0</td>\n",
       "    </tr>\n",
       "    <tr>\n",
       "      <th>13317</th>\n",
       "      <td>Built-up  Area</td>\n",
       "      <td>Ready To Move</td>\n",
       "      <td>Raja Rajeshwari Nagar</td>\n",
       "      <td>2 BHK</td>\n",
       "      <td>Mahla T</td>\n",
       "      <td>1141</td>\n",
       "      <td>2.0</td>\n",
       "      <td>1.0</td>\n",
       "      <td>60.0</td>\n",
       "    </tr>\n",
       "    <tr>\n",
       "      <th>13318</th>\n",
       "      <td>Super built-up  Area</td>\n",
       "      <td>18-Jun</td>\n",
       "      <td>Padmanabhanagar</td>\n",
       "      <td>4 BHK</td>\n",
       "      <td>SollyCl</td>\n",
       "      <td>4689</td>\n",
       "      <td>4.0</td>\n",
       "      <td>1.0</td>\n",
       "      <td>488.0</td>\n",
       "    </tr>\n",
       "    <tr>\n",
       "      <th>13319</th>\n",
       "      <td>Super built-up  Area</td>\n",
       "      <td>Ready To Move</td>\n",
       "      <td>Doddathoguru</td>\n",
       "      <td>1 BHK</td>\n",
       "      <td>NaN</td>\n",
       "      <td>550</td>\n",
       "      <td>1.0</td>\n",
       "      <td>1.0</td>\n",
       "      <td>17.0</td>\n",
       "    </tr>\n",
       "  </tbody>\n",
       "</table>\n",
       "</div>"
      ],
      "text/plain": [
       "                  area_type   availability               location       size  \\\n",
       "13315        Built-up  Area  Ready To Move             Whitefield  5 Bedroom   \n",
       "13316  Super built-up  Area  Ready To Move          Richards Town      4 BHK   \n",
       "13317        Built-up  Area  Ready To Move  Raja Rajeshwari Nagar      2 BHK   \n",
       "13318  Super built-up  Area         18-Jun        Padmanabhanagar      4 BHK   \n",
       "13319  Super built-up  Area  Ready To Move           Doddathoguru      1 BHK   \n",
       "\n",
       "       society total_sqft  bath  balcony  price  \n",
       "13315  ArsiaEx       3453   4.0      0.0  231.0  \n",
       "13316      NaN       3600   5.0      NaN  400.0  \n",
       "13317  Mahla T       1141   2.0      1.0   60.0  \n",
       "13318  SollyCl       4689   4.0      1.0  488.0  \n",
       "13319      NaN        550   1.0      1.0   17.0  "
      ]
     },
     "execution_count": 4,
     "metadata": {},
     "output_type": "execute_result"
    }
   ],
   "source": [
    "df.tail()"
   ]
  },
  {
   "cell_type": "code",
   "execution_count": 5,
   "metadata": {
    "execution": {
     "iopub.execute_input": "2024-08-20T07:38:39.782117Z",
     "iopub.status.busy": "2024-08-20T07:38:39.781763Z",
     "iopub.status.idle": "2024-08-20T07:38:39.825391Z",
     "shell.execute_reply": "2024-08-20T07:38:39.824229Z",
     "shell.execute_reply.started": "2024-08-20T07:38:39.782089Z"
    }
   },
   "outputs": [
    {
     "name": "stdout",
     "output_type": "stream",
     "text": [
      "<class 'pandas.core.frame.DataFrame'>\n",
      "RangeIndex: 13320 entries, 0 to 13319\n",
      "Data columns (total 9 columns):\n",
      " #   Column        Non-Null Count  Dtype  \n",
      "---  ------        --------------  -----  \n",
      " 0   area_type     13320 non-null  object \n",
      " 1   availability  13320 non-null  object \n",
      " 2   location      13319 non-null  object \n",
      " 3   size          13304 non-null  object \n",
      " 4   society       7818 non-null   object \n",
      " 5   total_sqft    13320 non-null  object \n",
      " 6   bath          13247 non-null  float64\n",
      " 7   balcony       12711 non-null  float64\n",
      " 8   price         13320 non-null  float64\n",
      "dtypes: float64(3), object(6)\n",
      "memory usage: 936.7+ KB\n"
     ]
    }
   ],
   "source": [
    "df.info()"
   ]
  },
  {
   "cell_type": "code",
   "execution_count": null,
   "metadata": {
    "execution": {
     "iopub.execute_input": "2023-11-05T07:47:26.054834Z",
     "iopub.status.busy": "2023-11-05T07:47:26.054452Z",
     "iopub.status.idle": "2023-11-05T07:47:26.081416Z",
     "shell.execute_reply": "2023-11-05T07:47:26.080541Z",
     "shell.execute_reply.started": "2023-11-05T07:47:26.054801Z"
    }
   },
   "outputs": [],
   "source": [
    "df.describe()"
   ]
  },
  {
   "cell_type": "code",
   "execution_count": null,
   "metadata": {
    "execution": {
     "iopub.execute_input": "2023-11-05T07:47:26.082574Z",
     "iopub.status.busy": "2023-11-05T07:47:26.082289Z",
     "iopub.status.idle": "2023-11-05T07:47:31.604067Z",
     "shell.execute_reply": "2023-11-05T07:47:31.6031Z",
     "shell.execute_reply.started": "2023-11-05T07:47:26.082548Z"
    }
   },
   "outputs": [],
   "source": [
    "sns.pairplot(df)"
   ]
  },
  {
   "cell_type": "code",
   "execution_count": null,
   "metadata": {
    "execution": {
     "iopub.execute_input": "2023-11-05T07:47:31.606431Z",
     "iopub.status.busy": "2023-11-05T07:47:31.605731Z",
     "iopub.status.idle": "2023-11-05T07:47:31.611359Z",
     "shell.execute_reply": "2023-11-05T07:47:31.610602Z",
     "shell.execute_reply.started": "2023-11-05T07:47:31.606396Z"
    }
   },
   "outputs": [],
   "source": [
    "def value_count():\n",
    "    for var in df.columns:\n",
    "        print(df[var].value_counts())\n",
    "        print(\"--------------------------------\")"
   ]
  },
  {
   "cell_type": "markdown",
   "metadata": {},
   "source": [
    "# Correlation Heatmap"
   ]
  },
  {
   "cell_type": "code",
   "execution_count": null,
   "metadata": {
    "execution": {
     "iopub.execute_input": "2023-11-05T07:47:31.61579Z",
     "iopub.status.busy": "2023-11-05T07:47:31.615474Z",
     "iopub.status.idle": "2023-11-05T07:47:31.95796Z",
     "shell.execute_reply": "2023-11-05T07:47:31.956756Z",
     "shell.execute_reply.started": "2023-11-05T07:47:31.615763Z"
    }
   },
   "outputs": [],
   "source": [
    "num_vars = [\"bath\",\"balcony\",\"price\"]\n",
    "sns.heatmap(df[num_vars].corr(),cmap = \"coolwarm\", annot=True)"
   ]
  },
  {
   "cell_type": "markdown",
   "metadata": {},
   "source": [
    "# Correlation of bath is greater than a balcony with price\n",
    "# 4.Prepare data with Machine Learning Model\n",
    "## Data Cleaning¶"
   ]
  },
  {
   "cell_type": "code",
   "execution_count": null,
   "metadata": {
    "execution": {
     "iopub.execute_input": "2023-11-05T07:47:31.960235Z",
     "iopub.status.busy": "2023-11-05T07:47:31.959503Z",
     "iopub.status.idle": "2023-11-05T07:47:31.996233Z",
     "shell.execute_reply": "2023-11-05T07:47:31.994761Z",
     "shell.execute_reply.started": "2023-11-05T07:47:31.960193Z"
    }
   },
   "outputs": [],
   "source": [
    "df.isnull().sum() #fine the how much data is missing"
   ]
  },
  {
   "cell_type": "code",
   "execution_count": null,
   "metadata": {
    "execution": {
     "iopub.execute_input": "2023-11-05T07:47:31.998102Z",
     "iopub.status.busy": "2023-11-05T07:47:31.997656Z",
     "iopub.status.idle": "2023-11-05T07:47:32.036823Z",
     "shell.execute_reply": "2023-11-05T07:47:32.035578Z",
     "shell.execute_reply.started": "2023-11-05T07:47:31.998069Z"
    }
   },
   "outputs": [],
   "source": [
    "df.isnull().mean()*100 #% of mean value"
   ]
  },
  {
   "cell_type": "code",
   "execution_count": null,
   "metadata": {
    "execution": {
     "iopub.execute_input": "2023-11-05T07:47:32.038649Z",
     "iopub.status.busy": "2023-11-05T07:47:32.038316Z",
     "iopub.status.idle": "2023-11-05T07:47:33.082856Z",
     "shell.execute_reply": "2023-11-05T07:47:33.081717Z",
     "shell.execute_reply.started": "2023-11-05T07:47:32.038606Z"
    }
   },
   "outputs": [],
   "source": [
    "#visualizing missing values using heatmap to get the idea where the values are missing.\n",
    "plt.figure(figsize=(16,9))\n",
    "sns.heatmap(df.isnull())"
   ]
  },
  {
   "cell_type": "code",
   "execution_count": null,
   "metadata": {
    "execution": {
     "iopub.execute_input": "2023-11-05T07:47:33.085245Z",
     "iopub.status.busy": "2023-11-05T07:47:33.084505Z",
     "iopub.status.idle": "2023-11-05T07:47:33.094157Z",
     "shell.execute_reply": "2023-11-05T07:47:33.093045Z",
     "shell.execute_reply.started": "2023-11-05T07:47:33.085196Z"
    }
   },
   "outputs": [],
   "source": [
    "df2 = df.drop('society', axis='columns')\n",
    "df2.shape"
   ]
  },
  {
   "cell_type": "code",
   "execution_count": null,
   "metadata": {
    "execution": {
     "iopub.execute_input": "2023-11-05T07:47:33.095916Z",
     "iopub.status.busy": "2023-11-05T07:47:33.095545Z",
     "iopub.status.idle": "2023-11-05T07:47:33.14453Z",
     "shell.execute_reply": "2023-11-05T07:47:33.143686Z",
     "shell.execute_reply.started": "2023-11-05T07:47:33.095886Z"
    }
   },
   "outputs": [],
   "source": [
    "df2['balcony'] = df2['balcony'].fillna(df2['balcony'].mean())\n",
    "df2.isnull().mean()"
   ]
  },
  {
   "cell_type": "code",
   "execution_count": null,
   "metadata": {
    "execution": {
     "iopub.execute_input": "2023-11-05T07:47:33.14617Z",
     "iopub.status.busy": "2023-11-05T07:47:33.145843Z",
     "iopub.status.idle": "2023-11-05T07:47:33.179496Z",
     "shell.execute_reply": "2023-11-05T07:47:33.178522Z",
     "shell.execute_reply.started": "2023-11-05T07:47:33.14614Z"
    }
   },
   "outputs": [],
   "source": [
    "df3=df2.dropna()\n",
    "df3.shape"
   ]
  },
  {
   "cell_type": "code",
   "execution_count": null,
   "metadata": {
    "execution": {
     "iopub.execute_input": "2023-11-05T07:47:33.181811Z",
     "iopub.status.busy": "2023-11-05T07:47:33.181082Z",
     "iopub.status.idle": "2023-11-05T07:47:33.214722Z",
     "shell.execute_reply": "2023-11-05T07:47:33.213382Z",
     "shell.execute_reply.started": "2023-11-05T07:47:33.181769Z"
    }
   },
   "outputs": [],
   "source": [
    "df3.isnull().sum()"
   ]
  },
  {
   "cell_type": "code",
   "execution_count": null,
   "metadata": {
    "execution": {
     "iopub.execute_input": "2023-11-05T07:47:33.217612Z",
     "iopub.status.busy": "2023-11-05T07:47:33.216889Z",
     "iopub.status.idle": "2023-11-05T07:47:33.23642Z",
     "shell.execute_reply": "2023-11-05T07:47:33.235224Z",
     "shell.execute_reply.started": "2023-11-05T07:47:33.217569Z"
    }
   },
   "outputs": [],
   "source": [
    "df3.head()"
   ]
  },
  {
   "cell_type": "markdown",
   "metadata": {},
   "source": [
    "# Feature Engineering"
   ]
  },
  {
   "cell_type": "code",
   "execution_count": null,
   "metadata": {
    "execution": {
     "iopub.execute_input": "2023-11-05T07:47:33.23961Z",
     "iopub.status.busy": "2023-11-05T07:47:33.23928Z",
     "iopub.status.idle": "2023-11-05T07:47:33.247609Z",
     "shell.execute_reply": "2023-11-05T07:47:33.246536Z",
     "shell.execute_reply.started": "2023-11-05T07:47:33.239582Z"
    }
   },
   "outputs": [],
   "source": [
    "pd.set_option(\"display.max_columns\", None)\n",
    "pd.set_option(\"display.max_rows\", None)"
   ]
  },
  {
   "cell_type": "markdown",
   "metadata": {},
   "source": [
    "# Convert Total Sqft Category into Numerical"
   ]
  },
  {
   "cell_type": "code",
   "execution_count": null,
   "metadata": {
    "execution": {
     "iopub.execute_input": "2023-11-05T07:47:33.249398Z",
     "iopub.status.busy": "2023-11-05T07:47:33.249085Z",
     "iopub.status.idle": "2023-11-05T07:47:33.295252Z",
     "shell.execute_reply": "2023-11-05T07:47:33.294112Z",
     "shell.execute_reply.started": "2023-11-05T07:47:33.24937Z"
    }
   },
   "outputs": [],
   "source": [
    "df3['total_sqft'].value_counts()"
   ]
  },
  {
   "cell_type": "code",
   "execution_count": null,
   "metadata": {
    "execution": {
     "iopub.execute_input": "2023-11-05T07:47:33.297549Z",
     "iopub.status.busy": "2023-11-05T07:47:33.297209Z",
     "iopub.status.idle": "2023-11-05T07:47:33.311689Z",
     "shell.execute_reply": "2023-11-05T07:47:33.310733Z",
     "shell.execute_reply.started": "2023-11-05T07:47:33.297518Z"
    }
   },
   "outputs": [],
   "source": [
    "import numpy as np\n",
    "\n",
    "total_sqft_int = []\n",
    "\n",
    "for str_val in df3['total_sqft']:\n",
    "    try:\n",
    "        total_sqft_int.append(float(str_val))  # If '123.4' like this value in str, then convert to float\n",
    "    except:\n",
    "        try:\n",
    "            temp = str_val.split('-')\n",
    "            total_sqft_int.append((float(temp[0]) + float(temp[-1])) / 2)  # '123 - 534' this str value split and take mean\n",
    "        except:\n",
    "            total_sqft_int.append(np.nan)  # If value not in the above format, then consider as NaN\n"
   ]
  },
  {
   "cell_type": "code",
   "execution_count": null,
   "metadata": {
    "execution": {
     "iopub.execute_input": "2023-11-05T07:47:33.313206Z",
     "iopub.status.busy": "2023-11-05T07:47:33.312919Z",
     "iopub.status.idle": "2023-11-05T07:47:33.326473Z",
     "shell.execute_reply": "2023-11-05T07:47:33.325069Z",
     "shell.execute_reply.started": "2023-11-05T07:47:33.31318Z"
    }
   },
   "outputs": [],
   "source": [
    "df4 = df3.reset_index(drop=True) # drop=True - don't add index column in df"
   ]
  },
  {
   "cell_type": "code",
   "execution_count": null,
   "metadata": {
    "execution": {
     "iopub.execute_input": "2023-11-05T07:47:33.328599Z",
     "iopub.status.busy": "2023-11-05T07:47:33.328254Z",
     "iopub.status.idle": "2023-11-05T07:47:33.357206Z",
     "shell.execute_reply": "2023-11-05T07:47:33.355946Z",
     "shell.execute_reply.started": "2023-11-05T07:47:33.32857Z"
    }
   },
   "outputs": [],
   "source": [
    "df5 = df4.join(pd.DataFrame({'total_sqft_int':total_sqft_int}))\n",
    "df5.head()"
   ]
  },
  {
   "cell_type": "code",
   "execution_count": null,
   "metadata": {
    "execution": {
     "iopub.execute_input": "2023-11-05T07:47:33.358928Z",
     "iopub.status.busy": "2023-11-05T07:47:33.358558Z",
     "iopub.status.idle": "2023-11-05T07:47:33.376832Z",
     "shell.execute_reply": "2023-11-05T07:47:33.375744Z",
     "shell.execute_reply.started": "2023-11-05T07:47:33.358898Z"
    }
   },
   "outputs": [],
   "source": [
    "df5.tail()"
   ]
  },
  {
   "cell_type": "code",
   "execution_count": null,
   "metadata": {
    "execution": {
     "iopub.execute_input": "2023-11-05T07:47:33.378605Z",
     "iopub.status.busy": "2023-11-05T07:47:33.378188Z",
     "iopub.status.idle": "2023-11-05T07:47:33.409096Z",
     "shell.execute_reply": "2023-11-05T07:47:33.40819Z",
     "shell.execute_reply.started": "2023-11-05T07:47:33.378565Z"
    }
   },
   "outputs": [],
   "source": [
    "df5.isnull().sum()"
   ]
  },
  {
   "cell_type": "code",
   "execution_count": null,
   "metadata": {
    "execution": {
     "iopub.execute_input": "2023-11-05T07:47:33.411292Z",
     "iopub.status.busy": "2023-11-05T07:47:33.410333Z",
     "iopub.status.idle": "2023-11-05T07:47:33.445526Z",
     "shell.execute_reply": "2023-11-05T07:47:33.444321Z",
     "shell.execute_reply.started": "2023-11-05T07:47:33.411257Z"
    }
   },
   "outputs": [],
   "source": [
    "df6 = df5.dropna()\n",
    "df6.shape"
   ]
  },
  {
   "cell_type": "code",
   "execution_count": null,
   "metadata": {
    "execution": {
     "iopub.execute_input": "2023-11-05T07:47:33.448536Z",
     "iopub.status.busy": "2023-11-05T07:47:33.447879Z",
     "iopub.status.idle": "2023-11-05T07:47:33.481485Z",
     "shell.execute_reply": "2023-11-05T07:47:33.480224Z",
     "shell.execute_reply.started": "2023-11-05T07:47:33.448493Z"
    }
   },
   "outputs": [],
   "source": [
    "df6 = df5.dropna()\n",
    "df6.shape"
   ]
  },
  {
   "cell_type": "code",
   "execution_count": null,
   "metadata": {
    "execution": {
     "iopub.execute_input": "2023-11-05T07:47:33.490644Z",
     "iopub.status.busy": "2023-11-05T07:47:33.490266Z",
     "iopub.status.idle": "2023-11-05T07:47:36.170146Z",
     "shell.execute_reply": "2023-11-05T07:47:36.168571Z",
     "shell.execute_reply.started": "2023-11-05T07:47:33.490613Z"
    }
   },
   "outputs": [],
   "source": [
    "df6.info"
   ]
  },
  {
   "cell_type": "code",
   "execution_count": null,
   "metadata": {
    "execution": {
     "iopub.execute_input": "2023-11-05T07:47:36.172509Z",
     "iopub.status.busy": "2023-11-05T07:47:36.171453Z",
     "iopub.status.idle": "2023-11-05T07:47:36.183264Z",
     "shell.execute_reply": "2023-11-05T07:47:36.182195Z",
     "shell.execute_reply.started": "2023-11-05T07:47:36.172455Z"
    }
   },
   "outputs": [],
   "source": [
    "df6['size'].value_counts()\n",
    " \n",
    "# size feature shows the number of rooms"
   ]
  },
  {
   "cell_type": "code",
   "execution_count": null,
   "metadata": {
    "execution": {
     "iopub.execute_input": "2023-11-05T07:47:36.185088Z",
     "iopub.status.busy": "2023-11-05T07:47:36.184767Z",
     "iopub.status.idle": "2023-11-05T07:47:36.212581Z",
     "shell.execute_reply": "2023-11-05T07:47:36.211696Z",
     "shell.execute_reply.started": "2023-11-05T07:47:36.18506Z"
    }
   },
   "outputs": [],
   "source": [
    "size_int = []\n",
    "\n",
    "for str_val in df6['size']:\n",
    "    try:\n",
    "        temp = int(str_val.split(\" \")[0])\n",
    "        size_int.append(temp)\n",
    "    except ValueError:\n",
    "        size_int.append(np.nan)\n",
    "        print(\"Noise =\", str_val)\n",
    "\n",
    "df7 = df6.assign(bhk=size_int).reset_index(drop=True)"
   ]
  },
  {
   "cell_type": "code",
   "execution_count": null,
   "metadata": {
    "execution": {
     "iopub.execute_input": "2023-11-05T07:47:36.214374Z",
     "iopub.status.busy": "2023-11-05T07:47:36.213887Z",
     "iopub.status.idle": "2023-11-05T07:47:36.226031Z",
     "shell.execute_reply": "2023-11-05T07:47:36.225214Z",
     "shell.execute_reply.started": "2023-11-05T07:47:36.214344Z"
    }
   },
   "outputs": [],
   "source": [
    "df7.shape"
   ]
  },
  {
   "cell_type": "code",
   "execution_count": null,
   "metadata": {
    "execution": {
     "iopub.execute_input": "2023-11-05T07:47:36.227786Z",
     "iopub.status.busy": "2023-11-05T07:47:36.227244Z",
     "iopub.status.idle": "2023-11-05T07:47:36.251778Z",
     "shell.execute_reply": "2023-11-05T07:47:36.250717Z",
     "shell.execute_reply.started": "2023-11-05T07:47:36.227743Z"
    }
   },
   "outputs": [],
   "source": [
    "df7.tail()"
   ]
  },
  {
   "cell_type": "code",
   "execution_count": null,
   "metadata": {
    "execution": {
     "iopub.execute_input": "2023-11-05T07:47:36.253214Z",
     "iopub.status.busy": "2023-11-05T07:47:36.25291Z",
     "iopub.status.idle": "2023-11-05T07:47:40.358965Z",
     "shell.execute_reply": "2023-11-05T07:47:40.357725Z",
     "shell.execute_reply.started": "2023-11-05T07:47:36.253186Z"
    }
   },
   "outputs": [],
   "source": [
    "# function to create histogram, Q-Q plot and boxplot\n",
    " \n",
    "# for Q-Q plots\n",
    "import scipy.stats as stats\n",
    " \n",
    "def diagnostic_plots(df, variable):\n",
    "    # function takes a dataframe (df) and\n",
    "    # the variable of interest as arguments\n",
    " \n",
    "    # define figure size\n",
    "    plt.figure(figsize=(16, 4))\n",
    " \n",
    "    # histogram\n",
    "    plt.subplot(1, 3, 1)\n",
    "    sns.distplot(df[variable], bins=30)\n",
    "    plt.title('Histogram')\n",
    " \n",
    "    # Q-Q plot\n",
    "    plt.subplot(1, 3, 2)\n",
    "    stats.probplot(df[variable], dist=\"norm\", plot=plt)\n",
    "    plt.ylabel('Variable quantiles')\n",
    " \n",
    "    # boxplot\n",
    "    plt.subplot(1, 3, 3)\n",
    "    sns.boxplot(y=df[variable])\n",
    "    plt.title('Boxplot')\n",
    " \n",
    "    plt.show()\n",
    "num_var = [\"bath\",\"balcony\",\"total_sqft_int\",\"bhk\",\"price\"]\n",
    "for var in num_var:\n",
    "    print(\"******* {} *******\".format(var))\n",
    "    diagnostic_plots(df7, var)"
   ]
  },
  {
   "cell_type": "code",
   "execution_count": null,
   "metadata": {
    "execution": {
     "iopub.execute_input": "2023-11-05T07:47:40.360811Z",
     "iopub.status.busy": "2023-11-05T07:47:40.360436Z",
     "iopub.status.idle": "2023-11-05T07:47:40.382296Z",
     "shell.execute_reply": "2023-11-05T07:47:40.381046Z",
     "shell.execute_reply.started": "2023-11-05T07:47:40.360778Z"
    }
   },
   "outputs": [],
   "source": [
    "# here we consider  1 BHK requierd min 350 sqft are\n",
    "df7[df7['total_sqft_int']/df7['bhk'] < 350].head()"
   ]
  },
  {
   "cell_type": "code",
   "execution_count": null,
   "metadata": {
    "execution": {
     "iopub.execute_input": "2023-11-05T07:47:40.383864Z",
     "iopub.status.busy": "2023-11-05T07:47:40.38351Z",
     "iopub.status.idle": "2023-11-05T07:47:40.393281Z",
     "shell.execute_reply": "2023-11-05T07:47:40.392136Z",
     "shell.execute_reply.started": "2023-11-05T07:47:40.383834Z"
    }
   },
   "outputs": [],
   "source": [
    "# if 1 BHK total_sqft are < 350 then we ae going to remove them\n",
    "df8 = df7[~(df7['total_sqft_int']/df7['bhk'] < 350)]\n",
    "df8.shape"
   ]
  },
  {
   "cell_type": "code",
   "execution_count": null,
   "metadata": {
    "execution": {
     "iopub.execute_input": "2023-11-05T07:47:40.395811Z",
     "iopub.status.busy": "2023-11-05T07:47:40.395473Z",
     "iopub.status.idle": "2023-11-05T07:47:40.42373Z",
     "shell.execute_reply": "2023-11-05T07:47:40.422621Z",
     "shell.execute_reply.started": "2023-11-05T07:47:40.395781Z"
    }
   },
   "outputs": [],
   "source": [
    "# create new feature that is price per squre foot \n",
    "# it help to find the outliers\n",
    " \n",
    "#price in lakh so conver into rupee and then / by total_sqft_int\n",
    "df8['price_per_sqft'] = df8['price']*100000 / df8['total_sqft_int']  \n",
    "df8.head()"
   ]
  },
  {
   "cell_type": "code",
   "execution_count": null,
   "metadata": {
    "execution": {
     "iopub.execute_input": "2023-11-05T07:47:40.425913Z",
     "iopub.status.busy": "2023-11-05T07:47:40.425264Z",
     "iopub.status.idle": "2023-11-05T07:47:40.446396Z",
     "shell.execute_reply": "2023-11-05T07:47:40.445518Z",
     "shell.execute_reply.started": "2023-11-05T07:47:40.425881Z"
    }
   },
   "outputs": [],
   "source": [
    "df8.price_per_sqft.describe()"
   ]
  },
  {
   "cell_type": "code",
   "execution_count": null,
   "metadata": {
    "execution": {
     "iopub.execute_input": "2023-11-05T07:47:40.448195Z",
     "iopub.status.busy": "2023-11-05T07:47:40.447868Z",
     "iopub.status.idle": "2023-11-05T07:47:40.455718Z",
     "shell.execute_reply": "2023-11-05T07:47:40.454621Z",
     "shell.execute_reply.started": "2023-11-05T07:47:40.448166Z"
    }
   },
   "outputs": [],
   "source": [
    "#here we can see huge difference between min and max price_per_sqft\n",
    "# min 6308.502826 max 176470.588235\n",
    " \n",
    "# Removing outliers using help of 'price per sqrt'  taking std and mean per location\n",
    "def remove_pps_outliers(df):\n",
    "    df_out = pd.DataFrame()\n",
    "    for key, subdf in df.groupby('location'):\n",
    "        m = np.mean(subdf.price_per_sqft)\n",
    "        st = np.std(subdf.price_per_sqft)\n",
    "        reduced_df = subdf[(subdf.price_per_sqft > (m - st)) & (subdf.price_per_sqft <= (m + st))]\n",
    "        df_out = pd.concat([df_out, reduced_df], ignore_index=True)\n",
    "    return df_out"
   ]
  },
  {
   "cell_type": "code",
   "execution_count": null,
   "metadata": {
    "execution": {
     "iopub.execute_input": "2023-11-05T07:47:40.45793Z",
     "iopub.status.busy": "2023-11-05T07:47:40.457306Z",
     "iopub.status.idle": "2023-11-05T07:47:42.790515Z",
     "shell.execute_reply": "2023-11-05T07:47:42.789377Z",
     "shell.execute_reply.started": "2023-11-05T07:47:40.45789Z"
    }
   },
   "outputs": [],
   "source": [
    "df9 = remove_pps_outliers(df8)\n",
    "df9.shape"
   ]
  },
  {
   "cell_type": "code",
   "execution_count": null,
   "metadata": {
    "execution": {
     "iopub.execute_input": "2023-11-05T07:47:42.792838Z",
     "iopub.status.busy": "2023-11-05T07:47:42.792097Z",
     "iopub.status.idle": "2023-11-05T07:47:43.277Z",
     "shell.execute_reply": "2023-11-05T07:47:43.275945Z",
     "shell.execute_reply.started": "2023-11-05T07:47:42.792796Z"
    }
   },
   "outputs": [],
   "source": [
    "def plot_scatter_chart(df, location):\n",
    "    bhk2 = df[(df.location == location) & (df.bhk == 2)]\n",
    "    bhk3 = df[(df.location == location) & (df.bhk == 3)]\n",
    "    plt.figure(figsize=(16, 9))\n",
    "    plt.scatter(bhk2.total_sqft_int, bhk2.price, color='Blue', label='2 BHK', s=50)\n",
    "    plt.scatter(bhk3.total_sqft_int, bhk3.price, color='Red', label='3 BHK', s=50, marker=\"+\")\n",
    "    plt.xlabel(\"Total Square Feet Area\")\n",
    "    plt.ylabel(\"Price\")\n",
    "    plt.title(location)\n",
    "    plt.legend()\n",
    "\n",
    "plot_scatter_chart(df9, \"Rajaji Nagar\")"
   ]
  },
  {
   "cell_type": "markdown",
   "metadata": {},
   "source": [
    "# scatterplot \n",
    "##  we observe that at same location price of 2 bhk house is greater than 3 bhk so it is outlier\n"
   ]
  },
  {
   "cell_type": "code",
   "execution_count": null,
   "metadata": {
    "execution": {
     "iopub.execute_input": "2023-11-05T07:47:43.279643Z",
     "iopub.status.busy": "2023-11-05T07:47:43.278956Z",
     "iopub.status.idle": "2023-11-05T07:47:43.735706Z",
     "shell.execute_reply": "2023-11-05T07:47:43.734574Z",
     "shell.execute_reply.started": "2023-11-05T07:47:43.279602Z"
    }
   },
   "outputs": [],
   "source": [
    "plot_scatter_chart(df9, \"Hebbal\")"
   ]
  },
  {
   "cell_type": "markdown",
   "metadata": {},
   "source": [
    "# Removing BHK outliers"
   ]
  },
  {
   "cell_type": "code",
   "execution_count": null,
   "metadata": {
    "execution": {
     "iopub.execute_input": "2023-11-05T07:47:43.738216Z",
     "iopub.status.busy": "2023-11-05T07:47:43.737177Z",
     "iopub.status.idle": "2023-11-05T07:47:45.33814Z",
     "shell.execute_reply": "2023-11-05T07:47:45.337008Z",
     "shell.execute_reply.started": "2023-11-05T07:47:43.738175Z"
    }
   },
   "outputs": [],
   "source": [
    " \n",
    "\n",
    "def remove_bhk_outliers(df):\n",
    "    exclude_indices = np.array([])\n",
    "    for location, location_df in df.groupby('location'):\n",
    "        bhk_stats = {}\n",
    "        for bhk, bhk_df in location_df.groupby('bhk'):\n",
    "            bhk_stats[bhk] = {\n",
    "                'mean': np.mean(bhk_df.price_per_sqft),\n",
    "                'std': np.std(bhk_df.price_per_sqft),\n",
    "                'count': bhk_df.shape[0]\n",
    "            }\n",
    "        for bhk, bhk_df in location_df.groupby('bhk'):\n",
    "            stats = bhk_stats.get(bhk - 1)\n",
    "            if stats and stats['count'] > 5:\n",
    "                exclude_indices = np.append(exclude_indices, bhk_df[bhk_df.price_per_sqft < stats['mean']].index.values)\n",
    "    return df.drop(exclude_indices, axis='index')\n",
    "\n",
    "df10 = remove_bhk_outliers(df9)\n",
    "df10.shape\n"
   ]
  },
  {
   "cell_type": "code",
   "execution_count": null,
   "metadata": {
    "execution": {
     "iopub.execute_input": "2023-11-05T07:47:45.340177Z",
     "iopub.status.busy": "2023-11-05T07:47:45.339557Z",
     "iopub.status.idle": "2023-11-05T07:47:45.360078Z",
     "shell.execute_reply": "2023-11-05T07:47:45.359254Z",
     "shell.execute_reply.started": "2023-11-05T07:47:45.340136Z"
    }
   },
   "outputs": [],
   "source": [
    "df10.bath.unique()\n",
    " \n",
    "df10[df10.bath > df10.bhk+2]"
   ]
  },
  {
   "cell_type": "markdown",
   "metadata": {},
   "source": [
    "## here we are considering data only total no. bathroom =  bhk + 1"
   ]
  },
  {
   "cell_type": "code",
   "execution_count": null,
   "metadata": {
    "execution": {
     "iopub.execute_input": "2023-11-05T07:47:45.361766Z",
     "iopub.status.busy": "2023-11-05T07:47:45.361279Z",
     "iopub.status.idle": "2023-11-05T07:47:45.371717Z",
     "shell.execute_reply": "2023-11-05T07:47:45.370464Z",
     "shell.execute_reply.started": "2023-11-05T07:47:45.361736Z"
    }
   },
   "outputs": [],
   "source": [
    "df11 = df10[df10.bath < df10.bhk+2]\n",
    "df11.shape"
   ]
  },
  {
   "cell_type": "markdown",
   "metadata": {},
   "source": [
    "# Boxplot"
   ]
  },
  {
   "cell_type": "code",
   "execution_count": null,
   "metadata": {
    "execution": {
     "iopub.execute_input": "2023-11-05T07:47:45.374146Z",
     "iopub.status.busy": "2023-11-05T07:47:45.373699Z",
     "iopub.status.idle": "2023-11-05T07:47:46.146107Z",
     "shell.execute_reply": "2023-11-05T07:47:46.144742Z",
     "shell.execute_reply.started": "2023-11-05T07:47:45.374085Z"
    }
   },
   "outputs": [],
   "source": [
    "plt.figure(figsize=(16,9))\n",
    "for i,var in enumerate(num_var):\n",
    "    plt.subplot(3,2,i+1)\n",
    "    sns.boxplot(df11[var])"
   ]
  },
  {
   "cell_type": "code",
   "execution_count": null,
   "metadata": {
    "execution": {
     "iopub.execute_input": "2023-11-05T07:47:46.148157Z",
     "iopub.status.busy": "2023-11-05T07:47:46.147682Z",
     "iopub.status.idle": "2023-11-05T07:47:46.168989Z",
     "shell.execute_reply": "2023-11-05T07:47:46.167649Z",
     "shell.execute_reply.started": "2023-11-05T07:47:46.148116Z"
    }
   },
   "outputs": [],
   "source": [
    "df11.head()"
   ]
  },
  {
   "cell_type": "code",
   "execution_count": null,
   "metadata": {
    "execution": {
     "iopub.execute_input": "2023-11-05T07:47:46.17114Z",
     "iopub.status.busy": "2023-11-05T07:47:46.170711Z",
     "iopub.status.idle": "2023-11-05T07:47:46.193864Z",
     "shell.execute_reply": "2023-11-05T07:47:46.192801Z",
     "shell.execute_reply.started": "2023-11-05T07:47:46.1711Z"
    }
   },
   "outputs": [],
   "source": [
    "df12 = df11.drop(['area_type', 'availability',\"location\",\"size\",\"total_sqft\"], axis =1)\n",
    "df12.head()"
   ]
  },
  {
   "cell_type": "markdown",
   "metadata": {},
   "source": [
    "# Test ml model on this data"
   ]
  },
  {
   "cell_type": "markdown",
   "metadata": {},
   "source": [
    "### ML model train on this data and got best score >>>> XGBoost=0.914710"
   ]
  },
  {
   "cell_type": "code",
   "execution_count": null,
   "metadata": {
    "execution": {
     "iopub.execute_input": "2023-11-05T07:47:46.195605Z",
     "iopub.status.busy": "2023-11-05T07:47:46.195169Z",
     "iopub.status.idle": "2023-11-05T07:47:46.260872Z",
     "shell.execute_reply": "2023-11-05T07:47:46.259808Z",
     "shell.execute_reply.started": "2023-11-05T07:47:46.195574Z"
    }
   },
   "outputs": [],
   "source": [
    "df12.to_csv(\"clean_data.csv\", index=False) \n"
   ]
  },
  {
   "cell_type": "markdown",
   "metadata": {},
   "source": [
    "# ----Categorical Variable Encoding------"
   ]
  },
  {
   "cell_type": "code",
   "execution_count": null,
   "metadata": {
    "execution": {
     "iopub.execute_input": "2023-11-05T07:47:46.262653Z",
     "iopub.status.busy": "2023-11-05T07:47:46.262259Z",
     "iopub.status.idle": "2023-11-05T07:47:46.283513Z",
     "shell.execute_reply": "2023-11-05T07:47:46.282173Z",
     "shell.execute_reply.started": "2023-11-05T07:47:46.262612Z"
    }
   },
   "outputs": [],
   "source": [
    "df13 = df11.drop([\"size\",\"total_sqft\"], axis =1)\n",
    "df13.head()"
   ]
  },
  {
   "cell_type": "code",
   "execution_count": null,
   "metadata": {
    "execution": {
     "iopub.execute_input": "2023-11-05T07:47:46.285501Z",
     "iopub.status.busy": "2023-11-05T07:47:46.285092Z",
     "iopub.status.idle": "2023-11-05T07:47:46.346145Z",
     "shell.execute_reply": "2023-11-05T07:47:46.345017Z",
     "shell.execute_reply.started": "2023-11-05T07:47:46.285464Z"
    }
   },
   "outputs": [],
   "source": [
    "df14 = pd.get_dummies(df13, drop_first=True, columns=['area_type','availability','location'])\n",
    "df14.shape"
   ]
  },
  {
   "cell_type": "code",
   "execution_count": null,
   "metadata": {
    "execution": {
     "iopub.execute_input": "2023-11-05T07:47:46.347926Z",
     "iopub.status.busy": "2023-11-05T07:47:46.347523Z",
     "iopub.status.idle": "2023-11-05T07:47:46.698654Z",
     "shell.execute_reply": "2023-11-05T07:47:46.6974Z",
     "shell.execute_reply.started": "2023-11-05T07:47:46.347895Z"
    }
   },
   "outputs": [],
   "source": [
    "df14.head()"
   ]
  },
  {
   "cell_type": "markdown",
   "metadata": {},
   "source": [
    "## Test ML model on this data"
   ]
  },
  {
   "cell_type": "code",
   "execution_count": null,
   "metadata": {
    "execution": {
     "iopub.execute_input": "2023-11-05T07:47:46.701165Z",
     "iopub.status.busy": "2023-11-05T07:47:46.700753Z",
     "iopub.status.idle": "2023-11-05T07:47:48.292561Z",
     "shell.execute_reply": "2023-11-05T07:47:48.291429Z",
     "shell.execute_reply.started": "2023-11-05T07:47:46.701128Z"
    }
   },
   "outputs": [],
   "source": [
    "df14.to_csv('oh_encoded_data.csv', index=False) "
   ]
  },
  {
   "cell_type": "code",
   "execution_count": null,
   "metadata": {
    "execution": {
     "iopub.execute_input": "2023-11-05T07:47:48.295571Z",
     "iopub.status.busy": "2023-11-05T07:47:48.294556Z",
     "iopub.status.idle": "2023-11-05T07:47:48.301182Z",
     "shell.execute_reply": "2023-11-05T07:47:48.300036Z",
     "shell.execute_reply.started": "2023-11-05T07:47:48.295525Z"
    }
   },
   "outputs": [],
   "source": [
    "df15 = df13.copy()"
   ]
  },
  {
   "cell_type": "code",
   "execution_count": null,
   "metadata": {
    "execution": {
     "iopub.execute_input": "2023-11-05T07:47:48.303633Z",
     "iopub.status.busy": "2023-11-05T07:47:48.302953Z",
     "iopub.status.idle": "2023-11-05T07:47:48.316817Z",
     "shell.execute_reply": "2023-11-05T07:47:48.315637Z",
     "shell.execute_reply.started": "2023-11-05T07:47:48.303593Z"
    }
   },
   "outputs": [],
   "source": [
    "df15.shape"
   ]
  },
  {
   "cell_type": "code",
   "execution_count": null,
   "metadata": {
    "execution": {
     "iopub.execute_input": "2023-11-05T07:47:48.319013Z",
     "iopub.status.busy": "2023-11-05T07:47:48.318566Z",
     "iopub.status.idle": "2023-11-05T07:47:48.339298Z",
     "shell.execute_reply": "2023-11-05T07:47:48.338095Z",
     "shell.execute_reply.started": "2023-11-05T07:47:48.318976Z"
    }
   },
   "outputs": [],
   "source": [
    "df15.head(2)"
   ]
  },
  {
   "cell_type": "markdown",
   "metadata": {},
   "source": [
    "## Working with <<<<< availability >>>>> Feature\"\"\""
   ]
  },
  {
   "cell_type": "code",
   "execution_count": null,
   "metadata": {
    "execution": {
     "iopub.execute_input": "2023-11-05T07:47:48.341442Z",
     "iopub.status.busy": "2023-11-05T07:47:48.34105Z",
     "iopub.status.idle": "2023-11-05T07:47:48.355273Z",
     "shell.execute_reply": "2023-11-05T07:47:48.353745Z",
     "shell.execute_reply.started": "2023-11-05T07:47:48.341406Z"
    }
   },
   "outputs": [],
   "source": [
    "df15[\"availability\"].value_counts()\n",
    " \n",
    "# in availability feature, 10525 house 'Ready to Move\" and remaining will be redy on perticuler date\n",
    "# so we crate new feature \"\"availability_Ready To Move\"\" and add vale 1 if availability is Ready To Move else 0\n",
    "df15[\"availability_Ready To Move\"] = np.where(df15[\"availability\"]==\"Ready To Move\",1,0)\n",
    "df15.shape"
   ]
  },
  {
   "cell_type": "code",
   "execution_count": null,
   "metadata": {
    "execution": {
     "iopub.execute_input": "2023-11-05T07:47:48.358278Z",
     "iopub.status.busy": "2023-11-05T07:47:48.357854Z",
     "iopub.status.idle": "2023-11-05T07:47:48.37613Z",
     "shell.execute_reply": "2023-11-05T07:47:48.375029Z",
     "shell.execute_reply.started": "2023-11-05T07:47:48.35824Z"
    }
   },
   "outputs": [],
   "source": [
    "df15.tail()"
   ]
  },
  {
   "cell_type": "markdown",
   "metadata": {},
   "source": [
    "## Working on <<<< Location >>>> feature\"\"\""
   ]
  },
  {
   "cell_type": "code",
   "execution_count": null,
   "metadata": {
    "execution": {
     "iopub.execute_input": "2023-11-05T07:47:48.378407Z",
     "iopub.status.busy": "2023-11-05T07:47:48.377703Z",
     "iopub.status.idle": "2023-11-05T07:47:48.404011Z",
     "shell.execute_reply": "2023-11-05T07:47:48.402564Z",
     "shell.execute_reply.started": "2023-11-05T07:47:48.37836Z"
    }
   },
   "outputs": [],
   "source": [
    "location_value_count = df15['location'].value_counts()\n",
    "location_value_count\n",
    " \n",
    "location_gert_20 = location_value_count[location_value_count>=20].index\n",
    "location_gert_20"
   ]
  },
  {
   "cell_type": "code",
   "execution_count": null,
   "metadata": {
    "execution": {
     "iopub.execute_input": "2023-11-05T07:47:48.405855Z",
     "iopub.status.busy": "2023-11-05T07:47:48.405154Z",
     "iopub.status.idle": "2023-11-05T07:47:48.583055Z",
     "shell.execute_reply": "2023-11-05T07:47:48.581988Z",
     "shell.execute_reply.started": "2023-11-05T07:47:48.405821Z"
    }
   },
   "outputs": [],
   "source": [
    "# location count is greter than 19 then we create column of that feature \n",
    "# then if this location present in location feature then set value 1 else 0 ( ohe hot encoding)\n",
    "df16 = df15.copy()\n",
    "for cat_var in location_gert_20:\n",
    "    df16['location_'+cat_var]=np.where(df16['location']==cat_var, 1,0)"
   ]
  },
  {
   "cell_type": "code",
   "execution_count": null,
   "metadata": {
    "execution": {
     "iopub.execute_input": "2023-11-05T07:47:48.585398Z",
     "iopub.status.busy": "2023-11-05T07:47:48.5847Z",
     "iopub.status.idle": "2023-11-05T07:47:48.592662Z",
     "shell.execute_reply": "2023-11-05T07:47:48.591575Z",
     "shell.execute_reply.started": "2023-11-05T07:47:48.585354Z"
    }
   },
   "outputs": [],
   "source": [
    "df16.shape"
   ]
  },
  {
   "cell_type": "code",
   "execution_count": null,
   "metadata": {
    "execution": {
     "iopub.execute_input": "2023-11-05T07:47:48.596059Z",
     "iopub.status.busy": "2023-11-05T07:47:48.594297Z",
     "iopub.status.idle": "2023-11-05T07:47:48.659943Z",
     "shell.execute_reply": "2023-11-05T07:47:48.658786Z",
     "shell.execute_reply.started": "2023-11-05T07:47:48.596028Z"
    }
   },
   "outputs": [],
   "source": [
    "df16.head()"
   ]
  },
  {
   "cell_type": "markdown",
   "metadata": {},
   "source": [
    "## Drop categorical variable"
   ]
  },
  {
   "cell_type": "code",
   "execution_count": null,
   "metadata": {
    "execution": {
     "iopub.execute_input": "2023-11-05T07:47:48.662159Z",
     "iopub.status.busy": "2023-11-05T07:47:48.661746Z",
     "iopub.status.idle": "2023-11-05T07:47:48.682956Z",
     "shell.execute_reply": "2023-11-05T07:47:48.681783Z",
     "shell.execute_reply.started": "2023-11-05T07:47:48.662122Z"
    }
   },
   "outputs": [],
   "source": [
    "df17 = df16.drop([\"area_type\",\"availability\",'location'], axis =1)\n",
    "df17.shape"
   ]
  },
  {
   "cell_type": "code",
   "execution_count": null,
   "metadata": {
    "execution": {
     "iopub.execute_input": "2023-11-05T07:47:48.684897Z",
     "iopub.status.busy": "2023-11-05T07:47:48.684491Z",
     "iopub.status.idle": "2023-11-05T07:47:48.749362Z",
     "shell.execute_reply": "2023-11-05T07:47:48.748207Z",
     "shell.execute_reply.started": "2023-11-05T07:47:48.68487Z"
    }
   },
   "outputs": [],
   "source": [
    "df17.head()"
   ]
  },
  {
   "cell_type": "code",
   "execution_count": null,
   "metadata": {
    "execution": {
     "iopub.execute_input": "2023-11-05T07:47:48.751Z",
     "iopub.status.busy": "2023-11-05T07:47:48.750633Z",
     "iopub.status.idle": "2023-11-05T07:47:49.010353Z",
     "shell.execute_reply": "2023-11-05T07:47:49.009249Z",
     "shell.execute_reply.started": "2023-11-05T07:47:48.750971Z"
    }
   },
   "outputs": [],
   "source": [
    "df17.to_csv('ohe_data_reduce_cat_class.csv', index=False)"
   ]
  },
  {
   "cell_type": "markdown",
   "metadata": {},
   "source": [
    "# Thanks for Giving Your Precious time for this Notebook!"
   ]
  }
 ],
 "metadata": {
  "kaggle": {
   "accelerator": "none",
   "dataSources": [
    {
     "datasetId": 20710,
     "sourceId": 26737,
     "sourceType": "datasetVersion"
    }
   ],
   "dockerImageVersionId": 30527,
   "isGpuEnabled": false,
   "isInternetEnabled": false,
   "language": "python",
   "sourceType": "notebook"
  },
  "kernelspec": {
   "display_name": "Python 3",
   "language": "python",
   "name": "python3"
  },
  "language_info": {
   "codemirror_mode": {
    "name": "ipython",
    "version": 3
   },
   "file_extension": ".py",
   "mimetype": "text/x-python",
   "name": "python",
   "nbconvert_exporter": "python",
   "pygments_lexer": "ipython3",
   "version": "3.10.12"
  }
 },
 "nbformat": 4,
 "nbformat_minor": 4
}
